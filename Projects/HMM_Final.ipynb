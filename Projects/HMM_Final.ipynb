{
 "cells": [
  {
   "cell_type": "code",
   "execution_count": 1,
   "metadata": {
    "ExecuteTime": {
     "end_time": "2018-12-13T00:50:22.649870Z",
     "start_time": "2018-12-13T00:50:19.263179Z"
    }
   },
   "outputs": [],
   "source": [
    "import numpy as np\n",
    "import pandas as pd\n",
    "import matplotlib.pyplot as plt\n",
    "import os\n",
    "import shutil\n",
    "import wfdb\n",
    "%matplotlib inline\n",
    "import hmmlearn\n",
    "import pywt\n",
    "from sklearn.mixture import GaussianMixture\n",
    "from sklearn.decomposition import PCA, FastICA"
   ]
  },
  {
   "cell_type": "code",
   "execution_count": 2,
   "metadata": {
    "ExecuteTime": {
     "end_time": "2018-12-13T00:50:23.926774Z",
     "start_time": "2018-12-13T00:50:23.915619Z"
    }
   },
   "outputs": [],
   "source": [
    "np.random.seed(4200)"
   ]
  },
  {
   "cell_type": "markdown",
   "metadata": {},
   "source": [
    "### Introduction and HMM fit for one waveform\n"
   ]
  },
  {
   "cell_type": "code",
   "execution_count": 3,
   "metadata": {
    "ExecuteTime": {
     "end_time": "2018-12-13T00:50:25.712205Z",
     "start_time": "2018-12-13T00:50:25.689104Z"
    }
   },
   "outputs": [],
   "source": [
    "def pos_probability(w_coefs, means, sigma,wavesize):\n",
    "    #Predict emmission probabilities\n",
    "    #Compute posterior probabilities for C1 and C2\n",
    "    \n",
    "    P=np.empty((2,wavesize),dtype=float)\n",
    "    Pnorm=np.empty((2,wavesize),dtype=float)\n",
    "    for j in range(wavesize):\n",
    "        for i in range(2):\n",
    "            p=np.exp(-0.5*(((w_coefs[:,j]-means[:,i]).dot(np.linalg.inv(sigma[:,:,i]))).dot((w_coefs[:,j]-means[:,i]).T)))\n",
    "            P[i,j]=p/np.sqrt(2*np.pi*np.linalg.det(sigma[:,:,i]))\n",
    "        Pnorm[:,j]=P[:,j]/np.sum(P[:,j])\n",
    "    return Pnorm"
   ]
  },
  {
   "cell_type": "code",
   "execution_count": 4,
   "metadata": {
    "ExecuteTime": {
     "end_time": "2018-12-13T00:50:28.869710Z",
     "start_time": "2018-12-13T00:50:28.857387Z"
    }
   },
   "outputs": [],
   "source": [
    "def Viterbi(Pnorm, T, wavesize):\n",
    "    #Pnorm - normalized emission probabilities\n",
    "    #T - Normalized transition probabilities\n",
    "    #wavesize=sample size\n",
    "    Pv=np.zeros((2,wavesize),dtype=float)\n",
    "    B=np.zeros((2,wavesize),dtype=int)\n",
    "    V_state=np.zeros((1,wavesize),dtype=int)\n",
    "\n",
    "    Pv[:,0]=Pnorm[:,0]\n",
    "    for j in range(wavesize-1):\n",
    "\n",
    "        for i in range(2):\n",
    "            b=np.argmax(np.multiply(T[:,i],Pv[:,j]))\n",
    "            B[i,j+1]=b\n",
    "            Pv[i,j+1]=T[b,i]*Pv[b,j]*Pnorm[i,j+1]\n",
    "        Pv[:,j+1]=Pv[:,j+1]/np.sum(Pv[:,j+1])\n",
    "\n",
    "    V_state=np.zeros((1,wavesize),dtype=int)\n",
    "    for k in range(wavesize-2, -1, -1):\n",
    "        V_state[0,k]=B[np.argmax(Pv[:,k+1]),k+1]\n",
    "    return V_state"
   ]
  },
  {
   "cell_type": "markdown",
   "metadata": {},
   "source": [
    "### Define metrics\n",
    "Metrics to find R-peak detection efficiency-\n",
    "$$Sensitivity(Recall)=\\frac{TP}{TP+FN}$$\n",
    "$$PPR(Precision)=\\frac{TP}{TP+FP}$$\n",
    "$$DER=\\frac{FN+FP}{TP+FN}$$\n",
    "$$Accuracy=\\frac{TP}{TP+FP+FN}$$\n",
    "\n",
    "Average state duration near R-peak\n",
    "\n",
    "TP when V_State=1 when R peak = True\n",
    "\n",
    "FP when V_State=1 when R peak = False\n",
    "\n",
    "FN when V_State=0 when R peak = True\n",
    "\n",
    "As HMM tends to keep its state over the entire R-wave, we will discount any V_State=1 samples in the immediate vicinity(10 samples on each side) of expected R-peak from being counted as False Positives. "
   ]
  },
  {
   "cell_type": "code",
   "execution_count": 5,
   "metadata": {
    "ExecuteTime": {
     "end_time": "2018-12-13T00:50:33.620159Z",
     "start_time": "2018-12-13T00:50:33.604501Z"
    }
   },
   "outputs": [],
   "source": [
    "def metrics(V_state,r_expected):\n",
    "#True Positives - when V_State=1 when R peak = True\n",
    "    TP=sum(V_state[0][r_expected])\n",
    "\n",
    "    #False negative - when V_State=0 when R peak = True\n",
    "    FN=len(r_expected)-TP\n",
    "\n",
    "    #FP when V_State=1 when R peak = False / number of state transitions that are not R-peaks\n",
    "    #get total number of State 0 to State 1 transitions and subtract the number of transitions in the 10-sample vicinity of Expected R-peak\n",
    "    FP=0\n",
    "\n",
    "    V_state[0][0]=0\n",
    "    for i in range(len(V_state[0])-1):\n",
    "\n",
    "        if (V_state[0][i]==0 and V_state[0][i+1]==1):\n",
    "            if i<r_expected[-1]-2 and r_expected[r_expected>i+1][0]>=(i+10):\n",
    "                FP+=1\n",
    "            else:\n",
    "                FP+=1\n",
    "\n",
    "    state_duration=[]            \n",
    "    for j in r_expected:\n",
    "        if V_state[0][j]==1:\n",
    "            state_start=j-np.where(np.flip(V_state[0][:j])==0)[0][0]+1\n",
    "            state_end=j+np.where(V_state[0][j:]==0)[0][0]\n",
    "            state_duration.append(state_end-state_start+1)    \n",
    "\n",
    "    Sensitivity=TP/(TP+FN)\n",
    "    PPR=TP/(TP+FP)\n",
    "    DER=(FN+FP)/(TP+FN)\n",
    "    avg_state_duration=np.mean(state_duration)\n",
    "    return Sensitivity,PPR,DER,avg_state_duration\n",
    "\n"
   ]
  },
  {
   "cell_type": "markdown",
   "metadata": {},
   "source": [
    "### Different training strategies for entire dataset\n",
    "Create training and test dataset - explain method"
   ]
  },
  {
   "cell_type": "code",
   "execution_count": 6,
   "metadata": {
    "ExecuteTime": {
     "end_time": "2018-12-13T00:50:39.070222Z",
     "start_time": "2018-12-13T00:50:38.571549Z"
    }
   },
   "outputs": [],
   "source": [
    "#Train and test dataset\n",
    "train_waves=[]\n",
    "test_waves=[]\n",
    "\n",
    "ecg_fnums=[100,101,103,105,106,107,108,109,111,112,113,114,115,116,117,118,119,121,122,123,124,201,202,203,205,207,208,209,210,212,213,214,215,217,219,220,221,222,223, 228, 230, 231, 232, 233, 234]\n",
    "for fnum in ecg_fnums:\n",
    "    #Load data and annotations\n",
    "    record = wfdb.rdrecord('C:\\\\Users\\\\hsalil89\\\\Documents\\\\DS\\\\MLSP\\\\Project\\\\data\\\\'+str(fnum),sampto=15000)\n",
    "    annotation = wfdb.rdann('C:\\\\Users\\\\hsalil89\\\\Documents\\\\DS\\\\MLSP\\\\Project\\\\data\\\\'+str(fnum), 'atr',sampto=15000)\n",
    "    window_size=250\n",
    "    num_r_peak=annotation.ann_len\n",
    "    \n",
    "    #To avoid picking up truncated waves, skip ECG waves that have position of R-peak < window_size \n",
    "    #also skip the last ECG wave in the input record\n",
    "    R_pos=annotation.sample\n",
    "    R_pos=R_pos[R_pos>window_size][:-1]\n",
    "    \n",
    "    np.random.shuffle(R_pos)\n",
    "    split_pt=np.round(0.7*len(R_pos)).astype(int)\n",
    "    train_r_idx=R_pos[:split_pt]\n",
    "    test_r_idx=R_pos[split_pt:]\n",
    "    \n",
    "    for i in range(len(train_r_idx)):\n",
    "        train_waves.append(record.p_signal[:,0][train_r_idx[i]-100:train_r_idx[i]+150])\n",
    "        \n",
    "    for i in range(len(test_r_idx)):\n",
    "        test_waves.append(record.p_signal[:,0][test_r_idx[i]-100:test_r_idx[i]+150])    \n",
    "\n",
    "#Hstack all training and testing waves to compute mean and variance using GMM\n",
    "X_train=np.hstack(np.array(train_waves))\n",
    "X_test=np.hstack(np.array(test_waves))"
   ]
  },
  {
   "cell_type": "code",
   "execution_count": 7,
   "metadata": {
    "ExecuteTime": {
     "end_time": "2018-12-10T05:02:34.089209Z",
     "start_time": "2018-12-10T04:58:11.708531Z"
    }
   },
   "outputs": [],
   "source": [
    "#export training and testing datasets as .mat\n",
    "np.savetxt(\"C:\\\\Users\\\\hsalil89\\\\Documents\\\\DS\\\\MLSP\\\\Project\\\\X_train.csv\", X_train, delimiter=\",\")\n",
    "np.savetxt(\"C:\\\\Users\\\\hsalil89\\\\Documents\\\\DS\\\\MLSP\\\\Project\\\\X_test.csv\", X_test, delimiter=\",\")\n",
    "np.savetxt(\"C:\\\\Users\\\\hsalil89\\\\Documents\\\\DS\\\\MLSP\\\\Project\\\\train_waves.csv\", np.asarray(train_waves), delimiter=\",\")\n",
    "np.savetxt(\"C:\\\\Users\\\\hsalil89\\\\Documents\\\\DS\\\\MLSP\\\\Project\\\\test_waves.csv\", np.asarray(test_waves), delimiter=\",\")"
   ]
  },
  {
   "cell_type": "code",
   "execution_count": 7,
   "metadata": {
    "ExecuteTime": {
     "end_time": "2018-12-13T00:51:05.327987Z",
     "start_time": "2018-12-13T00:51:05.050090Z"
    }
   },
   "outputs": [],
   "source": [
    "#Compute wavelet transform coefficients for training and test waves\n",
    "#select detailed coeffs for scale 2,3,4 \n",
    "coefs_train=pywt.cwt(X_train, wavelet='mexh',scales=[1,2,3,4])[0][1:4]\n",
    "\n",
    "coefs_test=pywt.cwt(X_test, wavelet='mexh',scales=[1,2,3,4])[0][1:4]"
   ]
  },
  {
   "cell_type": "code",
   "execution_count": 9,
   "metadata": {
    "ExecuteTime": {
     "end_time": "2018-12-13T00:51:39.312049Z",
     "start_time": "2018-12-13T00:51:39.304062Z"
    }
   },
   "outputs": [],
   "source": [
    "#During creation of train and test data, each wave is segmented in such a way that the R-peak is at the 100th position of a 250 sample wide wave\n",
    "r_expected_train=np.arange(100,174500,250)\n",
    "r_expected_test=np.arange(100,174500,250)"
   ]
  },
  {
   "cell_type": "code",
   "execution_count": 10,
   "metadata": {
    "ExecuteTime": {
     "end_time": "2018-12-13T00:51:42.016325Z",
     "start_time": "2018-12-13T00:51:42.011199Z"
    }
   },
   "outputs": [],
   "source": [
    "#Define transmission probabilities\n",
    "T=np.array([[0.7,0.3],[0.3,0.7]])"
   ]
  },
  {
   "cell_type": "code",
   "execution_count": 11,
   "metadata": {
    "ExecuteTime": {
     "end_time": "2018-12-13T00:51:47.081531Z",
     "start_time": "2018-12-13T00:51:47.053056Z"
    }
   },
   "outputs": [],
   "source": [
    "#evaluation on unknown wave\n",
    "fnum=200\n",
    "record = wfdb.rdrecord('C:\\\\Users\\\\hsalil89\\\\Documents\\\\DS\\\\MLSP\\\\Project\\\\data\\\\'+str(fnum),sampto=15000)\n",
    "annotation = wfdb.rdann('C:\\\\Users\\\\hsalil89\\\\Documents\\\\DS\\\\MLSP\\\\Project\\\\data\\\\'+str(fnum), 'atr',sampto=15000)\n",
    "\n",
    "X_test_new=record.p_signal[:,0]\n",
    "r_expected_test_new=annotation.sample\n",
    "\n",
    "coefs_test_new=pywt.cwt(X_test_new, wavelet='mexh',scales=[1,2,3,4])[0][1:4]"
   ]
  },
  {
   "cell_type": "code",
   "execution_count": 13,
   "metadata": {
    "ExecuteTime": {
     "end_time": "2018-12-13T00:51:55.412580Z",
     "start_time": "2018-12-13T00:51:55.381399Z"
    }
   },
   "outputs": [],
   "source": [
    "result=pd.DataFrame(columns=['Training method','Evaluation method','Sensitivity','PPR','DER','avg_Rstate_duration'])"
   ]
  },
  {
   "cell_type": "markdown",
   "metadata": {},
   "source": [
    "#### use template ECG signal to train -\n",
    "Why cant we use a ecg wave template as training dataset for R-peak detection? Arrythmia impacts time as well as amplitude. Shape may change causing deterioration in classification metrics.\n",
    "Give example waves and metrics"
   ]
  },
  {
   "cell_type": "code",
   "execution_count": 14,
   "metadata": {
    "ExecuteTime": {
     "end_time": "2018-12-13T00:51:57.617406Z",
     "start_time": "2018-12-13T00:51:57.580690Z"
    }
   },
   "outputs": [],
   "source": [
    "##Train GMM using only one sample wave from the training dataset\n",
    "coefs_1 = pywt.cwt(X_train[0:250], wavelet='mexh',scales=[1,2,3,4])[0][1:4]\n",
    "\n",
    "#Predict mean and variance using GMM\n",
    "g1 = GaussianMixture(n_components=2,random_state=4200)\n",
    "g1.fit(coefs_1.T)\n",
    "means_1=g1.means_.T\n",
    "sigma_1=g1.covariances_.T"
   ]
  },
  {
   "cell_type": "code",
   "execution_count": 15,
   "metadata": {
    "ExecuteTime": {
     "end_time": "2018-12-13T00:52:02.117389Z",
     "start_time": "2018-12-13T00:52:01.873575Z"
    }
   },
   "outputs": [
    {
     "data": {
      "text/plain": [
       "[<matplotlib.lines.Line2D at 0x204146ca5f8>]"
      ]
     },
     "execution_count": 15,
     "metadata": {},
     "output_type": "execute_result"
    },
    {
     "data": {
      "image/png": "[encoded data removed]",
      "text/plain": [
       "<Figure size 720x504 with 1 Axes>"
      ]
     },
     "metadata": {},
     "output_type": "display_data"
    }
   ],
   "source": [
    "#Compute Emission probabilities\n",
    "Pnorm=pos_probability(coefs_1, means_1, sigma_1,250)\n",
    "\n",
    "#compute best hidden state sequence for given input\n",
    "V_state=Viterbi(Pnorm, T, wavesize=250)\n",
    "\n",
    "#Plot the states sequence diagram\n",
    "fig=plt.figure(figsize=(10,7))\n",
    "ax1=fig.add_subplot(111)\n",
    "ax1.plot(X_train[0:250])\n",
    "ax1.plot(V_state[0],'r')"
   ]
  },
  {
   "cell_type": "code",
   "execution_count": 16,
   "metadata": {
    "ExecuteTime": {
     "end_time": "2018-12-13T00:52:40.500401Z",
     "start_time": "2018-12-13T00:52:09.103830Z"
    }
   },
   "outputs": [
    {
     "name": "stdout",
     "output_type": "stream",
     "text": [
      "0.43982808022922637 0.2033112582781457 2.2836676217765044 7.136807817589577\n"
     ]
    }
   ],
   "source": [
    "##Evaluate method on test dataset\n",
    "#Compute Emission probabilities\n",
    "Pnorm_1=pos_probability(coefs_test, means_1, sigma_1,174500)\n",
    "#compute best hidden state sequence for given input\n",
    "V_state_1=Viterbi(Pnorm_1, T, wavesize=174500)\n",
    "#Metrics\n",
    "Sensitivity,PPR,DER,avg_state_duration=metrics(V_state_1,r_expected_test)\n",
    "print(Sensitivity,PPR,DER,avg_state_duration)\n",
    "k=result.shape[0]+1\n",
    "result.loc[k]=['Template training wave','Test dataset',Sensitivity,PPR,DER,avg_state_duration]"
   ]
  },
  {
   "cell_type": "code",
   "execution_count": 17,
   "metadata": {
    "ExecuteTime": {
     "end_time": "2018-12-13T00:52:49.088191Z",
     "start_time": "2018-12-13T00:52:46.461029Z"
    }
   },
   "outputs": [
    {
     "name": "stdout",
     "output_type": "stream",
     "text": [
      "0.06349206349206349 0.03361344537815126 2.761904761904762 7.0\n"
     ]
    }
   ],
   "source": [
    "##Evaluate method on unknown test dataset\n",
    "#Compute Emission probabilities\n",
    "Pnorm_1_new=pos_probability(coefs_test_new, means_1, sigma_1,15000)\n",
    "#compute best hidden state sequence for given input\n",
    "V_state_1_new=Viterbi(Pnorm_1_new, T, wavesize=15000)\n",
    "#metrics\n",
    "Sensitivity,PPR,DER,avg_state_duration=metrics(V_state_1_new,r_expected_test_new)\n",
    "print(Sensitivity,PPR,DER,avg_state_duration)\n",
    "k=result.shape[0]+1\n",
    "result.loc[k]=['Template training wave','unknown ECG signal',Sensitivity,PPR,DER,avg_state_duration]"
   ]
  },
  {
   "cell_type": "markdown",
   "metadata": {},
   "source": [
    "#### use entire training wave to train the model -\n"
   ]
  },
  {
   "cell_type": "code",
   "execution_count": 18,
   "metadata": {
    "ExecuteTime": {
     "end_time": "2018-12-13T00:52:56.265349Z",
     "start_time": "2018-12-13T00:52:52.656853Z"
    }
   },
   "outputs": [],
   "source": [
    "#Predict mean and variance using GMM\n",
    "g2 = GaussianMixture(n_components=2,random_state=4200)\n",
    "g2.fit(coefs_train.T)\n",
    "means_2=g2.means_.T\n",
    "sigma_2=g2.covariances_.T"
   ]
  },
  {
   "cell_type": "code",
   "execution_count": 21,
   "metadata": {
    "ExecuteTime": {
     "end_time": "2018-12-13T00:47:15.214720Z",
     "start_time": "2018-12-13T00:47:15.201944Z"
    }
   },
   "outputs": [],
   "source": [
    "#Switching the columns to align to the proper class label (0-no R, 1-R-wave)\n",
    "s_2=np.sum(means_2,axis=0)\n",
    "if s_2[0]>s_2[1]:\n",
    "    means_2[:,[0,1]]=means_2[:,[1,0]]\n",
    "    sigma_2[:,:,[0,1]]=sigma_2[:,:,[1,0]]"
   ]
  },
  {
   "cell_type": "code",
   "execution_count": 20,
   "metadata": {
    "ExecuteTime": {
     "end_time": "2018-12-13T00:53:41.752106Z",
     "start_time": "2018-12-13T00:53:10.196891Z"
    }
   },
   "outputs": [
    {
     "name": "stdout",
     "output_type": "stream",
     "text": [
      "0.9856733524355301 0.2235217673814165 3.438395415472779 38.57994186046512\n"
     ]
    }
   ],
   "source": [
    "#Evaluate method on test dataset\n",
    "#Compute Emission probabilities\n",
    "Pnorm_2=pos_probability(coefs_test, means_2, sigma_2,174500)\n",
    "\n",
    "#compute best hidden state sequence for given input\n",
    "V_state_2=Viterbi(Pnorm_2, T, wavesize=174500)\n",
    "\n",
    "Sensitivity,PPR,DER,avg_state_duration=metrics(V_state_2,r_expected_test)\n",
    "print(Sensitivity,PPR,DER,avg_state_duration)\n",
    "k=result.shape[0]+1\n",
    "result.loc[k]=['training dataset','Test dataset',Sensitivity,PPR,DER,avg_state_duration]"
   ]
  },
  {
   "cell_type": "code",
   "execution_count": 21,
   "metadata": {
    "ExecuteTime": {
     "end_time": "2018-12-13T00:54:33.949302Z",
     "start_time": "2018-12-13T00:54:30.937180Z"
    }
   },
   "outputs": [
    {
     "name": "stdout",
     "output_type": "stream",
     "text": [
      "0.9682539682539683 0.2629310344827586 2.746031746031746 39.295081967213115\n"
     ]
    }
   ],
   "source": [
    "##Evaluate method on unknown test dataset\n",
    "#Compute Emission probabilities\n",
    "Pnorm_2_new=pos_probability(coefs_test_new, means_2, sigma_2,15000)\n",
    "#compute best hidden state sequence for given input\n",
    "V_state_2_new=Viterbi(Pnorm_2_new, T, wavesize=15000)\n",
    "#metrics\n",
    "Sensitivity,PPR,DER,avg_state_duration=metrics(V_state_2_new,r_expected_test_new)\n",
    "print(Sensitivity,PPR,DER,avg_state_duration)\n",
    "k=result.shape[0]+1\n",
    "result.loc[k]=['Training dataset','unknown ECG signal',Sensitivity,PPR,DER,avg_state_duration]"
   ]
  },
  {
   "cell_type": "markdown",
   "metadata": {},
   "source": [
    "#### use feature enhancement using PCA on wavelet coeffs of entire training wave to train the model -"
   ]
  },
  {
   "cell_type": "code",
   "execution_count": 22,
   "metadata": {
    "ExecuteTime": {
     "end_time": "2018-12-13T00:54:36.038236Z",
     "start_time": "2018-12-13T00:54:36.025022Z"
    }
   },
   "outputs": [],
   "source": [
    "pca=PCA(n_components=3,random_state=4200)"
   ]
  },
  {
   "cell_type": "code",
   "execution_count": 23,
   "metadata": {
    "ExecuteTime": {
     "end_time": "2018-12-13T00:54:43.278619Z",
     "start_time": "2018-12-13T00:54:39.554302Z"
    }
   },
   "outputs": [],
   "source": [
    "w_pca_train=pca.fit_transform(coefs_train.T)\n",
    "#Predict mean and variance using GMM\n",
    "g3 = GaussianMixture(n_components=2,random_state=4200)\n",
    "g3.fit(w_pca_train)\n",
    "means_3=g3.means_.T\n",
    "sigma_3=g3.covariances_.T"
   ]
  },
  {
   "cell_type": "code",
   "execution_count": 27,
   "metadata": {
    "ExecuteTime": {
     "end_time": "2018-12-13T00:47:57.358160Z",
     "start_time": "2018-12-13T00:47:57.346017Z"
    }
   },
   "outputs": [],
   "source": [
    "#Switching the columns to align to the proper class label (0-no R, 1-R-wave)\n",
    "s_3=np.sum(means_3,axis=0)\n",
    "if s_3[0]>s_3[1]:\n",
    "    means_3[:,[0,1]]=means_3[:,[1,0]]\n",
    "    sigma_3[:,:,[0,1]]=sigma_3[:,:,[1,0]]"
   ]
  },
  {
   "cell_type": "code",
   "execution_count": 25,
   "metadata": {
    "ExecuteTime": {
     "end_time": "2018-12-13T00:55:25.489044Z",
     "start_time": "2018-12-13T00:54:52.021977Z"
    }
   },
   "outputs": [
    {
     "name": "stdout",
     "output_type": "stream",
     "text": [
      "0.9856733524355301 0.2235217673814165 3.438395415472779 38.57994186046512\n"
     ]
    }
   ],
   "source": [
    "#Evaluate method on test dataset\n",
    "w_pca_test=pca.transform(coefs_test.T)\n",
    "\n",
    "#Compute Emission probabilities\n",
    "Pnorm_3=pos_probability(w_pca_test.T, means_3, sigma_3,174500)\n",
    "\n",
    "#compute best hidden state sequence for given input\n",
    "V_state_3=Viterbi(Pnorm_3, T, wavesize=174500)\n",
    "\n",
    "Sensitivity,PPR,DER,avg_state_duration=metrics(V_state_3,r_expected_test)\n",
    "print(Sensitivity,PPR,DER,avg_state_duration)\n",
    "k=result.shape[0]+1\n",
    "result.loc[k]=['Training dataset+PCA','Test dataset',Sensitivity,PPR,DER,avg_state_duration]"
   ]
  },
  {
   "cell_type": "code",
   "execution_count": 26,
   "metadata": {
    "ExecuteTime": {
     "end_time": "2018-12-13T00:55:32.624085Z",
     "start_time": "2018-12-13T00:55:29.900911Z"
    }
   },
   "outputs": [
    {
     "name": "stdout",
     "output_type": "stream",
     "text": [
      "0.9682539682539683 0.2629310344827586 2.746031746031746 39.295081967213115\n"
     ]
    }
   ],
   "source": [
    "##Evaluate method on unknown test dataset\n",
    "w_pca_test_new=pca.transform(coefs_test_new.T)\n",
    "#Compute Emission probabilities\n",
    "Pnorm_3_new=pos_probability(w_pca_test_new.T, means_3, sigma_3,15000)\n",
    "#compute best hidden state sequence for given input\n",
    "V_state_3_new=Viterbi(Pnorm_3_new, T, wavesize=15000)\n",
    "#metrics\n",
    "Sensitivity,PPR,DER,avg_state_duration=metrics(V_state_3_new,r_expected_test_new)\n",
    "print(Sensitivity,PPR,DER,avg_state_duration)\n",
    "k=result.shape[0]+1\n",
    "result.loc[k]=['Training dataset+PCA','unknown ECG signal',Sensitivity,PPR,DER,avg_state_duration]"
   ]
  },
  {
   "cell_type": "markdown",
   "metadata": {},
   "source": [
    "#### use feature enhancement using ICA on wavelet coeffs of entire training wave to train the model -"
   ]
  },
  {
   "cell_type": "code",
   "execution_count": 27,
   "metadata": {
    "ExecuteTime": {
     "end_time": "2018-12-13T00:55:35.661836Z",
     "start_time": "2018-12-13T00:55:35.653327Z"
    }
   },
   "outputs": [],
   "source": [
    "ica=FastICA(n_components=3,random_state=4200)"
   ]
  },
  {
   "cell_type": "code",
   "execution_count": 28,
   "metadata": {
    "ExecuteTime": {
     "end_time": "2018-12-13T00:55:42.042285Z",
     "start_time": "2018-12-13T00:55:37.617451Z"
    }
   },
   "outputs": [],
   "source": [
    "w_ica_train=ica.fit_transform(coefs_train.T)\n",
    "#Predict mean and variance using GMM\n",
    "g4 = GaussianMixture(n_components=2,random_state=4200)\n",
    "g4.fit(w_ica_train)\n",
    "means_4=g4.means_.T\n",
    "sigma_4=g4.covariances_.T"
   ]
  },
  {
   "cell_type": "code",
   "execution_count": 33,
   "metadata": {
    "ExecuteTime": {
     "end_time": "2018-12-13T00:48:35.837482Z",
     "start_time": "2018-12-13T00:48:35.821530Z"
    }
   },
   "outputs": [],
   "source": [
    "#Switching the columns to align to the proper class label (0-no R, 1-R-wave)\n",
    "s_4=np.sum(means_4,axis=0)\n",
    "if s_4[0]>s_4[1]:\n",
    "    means_4[:,[0,1]]=means_4[:,[1,0]]\n",
    "    sigma_4[:,:,[0,1]]=sigma_4[:,:,[1,0]]"
   ]
  },
  {
   "cell_type": "code",
   "execution_count": 30,
   "metadata": {
    "ExecuteTime": {
     "end_time": "2018-12-13T00:56:22.188819Z",
     "start_time": "2018-12-13T00:55:50.426654Z"
    }
   },
   "outputs": [
    {
     "name": "stdout",
     "output_type": "stream",
     "text": [
      "0.9297994269340975 0.32662304982385504 1.987106017191977 20.805855161787367\n"
     ]
    }
   ],
   "source": [
    "#Evaluate method on test dataset\n",
    "w_ica_test=ica.transform(coefs_test.T)\n",
    "\n",
    "#Compute Emission probabilities\n",
    "Pnorm_4=pos_probability(w_ica_test.T, means_4, sigma_4,174500)\n",
    "\n",
    "#compute best hidden state sequence for given input\n",
    "V_state_4=Viterbi(Pnorm_4, T, wavesize=174500)\n",
    "\n",
    "Sensitivity,PPR,DER,avg_state_duration=metrics(V_state_4,r_expected_test)\n",
    "print(Sensitivity,PPR,DER,avg_state_duration)\n",
    "k=result.shape[0]+1\n",
    "result.loc[k]=['Training dataset+ICA','Test dataset',Sensitivity,PPR,DER,avg_state_duration]"
   ]
  },
  {
   "cell_type": "code",
   "execution_count": 31,
   "metadata": {
    "ExecuteTime": {
     "end_time": "2018-12-13T00:56:28.735777Z",
     "start_time": "2018-12-13T00:56:26.241075Z"
    }
   },
   "outputs": [
    {
     "name": "stdout",
     "output_type": "stream",
     "text": [
      "0.9523809523809523 0.29850746268656714 2.2857142857142856 13.533333333333333\n"
     ]
    }
   ],
   "source": [
    "##Evaluate method on unknown test dataset\n",
    "w_ica_test_new=ica.transform(coefs_test_new.T)\n",
    "#Compute Emission probabilities\n",
    "Pnorm_4_new=pos_probability(w_ica_test_new.T, means_4, sigma_4,15000)\n",
    "#compute best hidden state sequence for given input\n",
    "V_state_4_new=Viterbi(Pnorm_4_new, T, wavesize=15000)\n",
    "#metrics\n",
    "Sensitivity,PPR,DER,avg_state_duration=metrics(V_state_4_new,r_expected_test_new)\n",
    "print(Sensitivity,PPR,DER,avg_state_duration)\n",
    "k=result.shape[0]+1\n",
    "result.loc[k]=['Training dataset+ICA','unknown ECG signal',Sensitivity,PPR,DER,avg_state_duration]"
   ]
  },
  {
   "cell_type": "markdown",
   "metadata": {},
   "source": [
    "### Outcome"
   ]
  },
  {
   "cell_type": "code",
   "execution_count": 32,
   "metadata": {
    "ExecuteTime": {
     "end_time": "2018-12-13T00:56:31.852561Z",
     "start_time": "2018-12-13T00:56:31.820383Z"
    }
   },
   "outputs": [
    {
     "data": {
      "text/html": [
       "<div>\n",
       "<style scoped>\n",
       "    .dataframe tbody tr th:only-of-type {\n",
       "        vertical-align: middle;\n",
       "    }\n",
       "\n",
       "    .dataframe tbody tr th {\n",
       "        vertical-align: top;\n",
       "    }\n",
       "\n",
       "    .dataframe thead th {\n",
       "        text-align: right;\n",
       "    }\n",
       "</style>\n",
       "<table border=\"1\" class=\"dataframe\">\n",
       "  <thead>\n",
       "    <tr style=\"text-align: right;\">\n",
       "      <th></th>\n",
       "      <th>Training method</th>\n",
       "      <th>Evaluation method</th>\n",
       "      <th>Sensitivity</th>\n",
       "      <th>PPR</th>\n",
       "      <th>DER</th>\n",
       "      <th>avg_Rstate_duration</th>\n",
       "    </tr>\n",
       "  </thead>\n",
       "  <tbody>\n",
       "    <tr>\n",
       "      <th>1</th>\n",
       "      <td>Template training wave</td>\n",
       "      <td>Test dataset</td>\n",
       "      <td>0.439828</td>\n",
       "      <td>0.203311</td>\n",
       "      <td>2.283668</td>\n",
       "      <td>7.136808</td>\n",
       "    </tr>\n",
       "    <tr>\n",
       "      <th>2</th>\n",
       "      <td>Template training wave</td>\n",
       "      <td>unknown ECG signal</td>\n",
       "      <td>0.063492</td>\n",
       "      <td>0.033613</td>\n",
       "      <td>2.761905</td>\n",
       "      <td>7.000000</td>\n",
       "    </tr>\n",
       "    <tr>\n",
       "      <th>3</th>\n",
       "      <td>training dataset</td>\n",
       "      <td>Test dataset</td>\n",
       "      <td>0.985673</td>\n",
       "      <td>0.223522</td>\n",
       "      <td>3.438395</td>\n",
       "      <td>38.579942</td>\n",
       "    </tr>\n",
       "    <tr>\n",
       "      <th>4</th>\n",
       "      <td>Training dataset</td>\n",
       "      <td>unknown ECG signal</td>\n",
       "      <td>0.968254</td>\n",
       "      <td>0.262931</td>\n",
       "      <td>2.746032</td>\n",
       "      <td>39.295082</td>\n",
       "    </tr>\n",
       "    <tr>\n",
       "      <th>5</th>\n",
       "      <td>Training dataset+PCA</td>\n",
       "      <td>Test dataset</td>\n",
       "      <td>0.985673</td>\n",
       "      <td>0.223522</td>\n",
       "      <td>3.438395</td>\n",
       "      <td>38.579942</td>\n",
       "    </tr>\n",
       "    <tr>\n",
       "      <th>6</th>\n",
       "      <td>Training dataset+PCA</td>\n",
       "      <td>unknown ECG signal</td>\n",
       "      <td>0.968254</td>\n",
       "      <td>0.262931</td>\n",
       "      <td>2.746032</td>\n",
       "      <td>39.295082</td>\n",
       "    </tr>\n",
       "    <tr>\n",
       "      <th>7</th>\n",
       "      <td>Training dataset+ICA</td>\n",
       "      <td>Test dataset</td>\n",
       "      <td>0.929799</td>\n",
       "      <td>0.326623</td>\n",
       "      <td>1.987106</td>\n",
       "      <td>20.805855</td>\n",
       "    </tr>\n",
       "    <tr>\n",
       "      <th>8</th>\n",
       "      <td>Training dataset+ICA</td>\n",
       "      <td>unknown ECG signal</td>\n",
       "      <td>0.952381</td>\n",
       "      <td>0.298507</td>\n",
       "      <td>2.285714</td>\n",
       "      <td>13.533333</td>\n",
       "    </tr>\n",
       "  </tbody>\n",
       "</table>\n",
       "</div>"
      ],
      "text/plain": [
       "          Training method   Evaluation method  Sensitivity       PPR  \\\n",
       "1  Template training wave        Test dataset     0.439828  0.203311   \n",
       "2  Template training wave  unknown ECG signal     0.063492  0.033613   \n",
       "3        training dataset        Test dataset     0.985673  0.223522   \n",
       "4        Training dataset  unknown ECG signal     0.968254  0.262931   \n",
       "5    Training dataset+PCA        Test dataset     0.985673  0.223522   \n",
       "6    Training dataset+PCA  unknown ECG signal     0.968254  0.262931   \n",
       "7    Training dataset+ICA        Test dataset     0.929799  0.326623   \n",
       "8    Training dataset+ICA  unknown ECG signal     0.952381  0.298507   \n",
       "\n",
       "        DER  avg_Rstate_duration  \n",
       "1  2.283668             7.136808  \n",
       "2  2.761905             7.000000  \n",
       "3  3.438395            38.579942  \n",
       "4  2.746032            39.295082  \n",
       "5  3.438395            38.579942  \n",
       "6  2.746032            39.295082  \n",
       "7  1.987106            20.805855  \n",
       "8  2.285714            13.533333  "
      ]
     },
     "execution_count": 32,
     "metadata": {},
     "output_type": "execute_result"
    }
   ],
   "source": [
    "result"
   ]
  },
  {
   "cell_type": "code",
   "execution_count": 33,
   "metadata": {
    "ExecuteTime": {
     "end_time": "2018-12-13T00:57:04.283656Z",
     "start_time": "2018-12-13T00:57:03.713294Z"
    }
   },
   "outputs": [
    {
     "data": {
      "text/plain": [
       "[<matplotlib.lines.Line2D at 0x20414998710>]"
      ]
     },
     "execution_count": 33,
     "metadata": {},
     "output_type": "execute_result"
    },
    {
     "data": {
      "image/png": "[encoded data removed]",
      "text/plain": [
       "<Figure size 720x504 with 4 Axes>"
      ]
     },
     "metadata": {},
     "output_type": "display_data"
    }
   ],
   "source": [
    "#Plot the states sequence diagram evaluation method 1\n",
    "fig=plt.figure(figsize=(10,7))\n",
    "ax1=fig.add_subplot(411)\n",
    "ax1.plot(X_test[10000:11000])\n",
    "ax1.plot(V_state_1[0][10000:11000],'r')\n",
    "plt.title('State sequence diagrams for testing dataset')\n",
    "ax1=fig.add_subplot(412)\n",
    "ax1.plot(X_test[10000:11000])\n",
    "ax1.plot(V_state_2[0][10000:11000],'r')\n",
    "ax1=fig.add_subplot(413)\n",
    "ax1.plot(X_test[10000:11000])\n",
    "ax1.plot(V_state_3[0][10000:11000],'r')\n",
    "ax1=fig.add_subplot(414)\n",
    "ax1.plot(X_test[10000:11000])\n",
    "ax1.plot(V_state_4[0][10000:11000],'r')"
   ]
  },
  {
   "cell_type": "code",
   "execution_count": 34,
   "metadata": {
    "ExecuteTime": {
     "end_time": "2018-12-13T00:57:07.964551Z",
     "start_time": "2018-12-13T00:57:07.356766Z"
    }
   },
   "outputs": [
    {
     "data": {
      "text/plain": [
       "[<matplotlib.lines.Line2D at 0x20414de1a58>]"
      ]
     },
     "execution_count": 34,
     "metadata": {},
     "output_type": "execute_result"
    },
    {
     "data": {
      "image/png": "[encoded data removed]",
      "text/plain": [
       "<Figure size 720x504 with 4 Axes>"
      ]
     },
     "metadata": {},
     "output_type": "display_data"
    }
   ],
   "source": [
    "#Plot the states sequence diagram evaluation method 2\n",
    "fig=plt.figure(figsize=(10,7))\n",
    "ax1=fig.add_subplot(411)\n",
    "ax1.plot(X_test_new[10000:11000])\n",
    "ax1.plot(V_state_1_new[0][10000:11000],'r')\n",
    "plt.title('State sequence diagrams for previously unseen ECG wave')\n",
    "ax1=fig.add_subplot(412)\n",
    "ax1.plot(X_test_new[10000:11000])\n",
    "ax1.plot(V_state_2_new[0][10000:11000],'r')\n",
    "ax1=fig.add_subplot(413)\n",
    "ax1.plot(X_test_new[10000:11000])\n",
    "ax1.plot(V_state_3_new[0][10000:11000],'r')\n",
    "ax1=fig.add_subplot(414)\n",
    "ax1.plot(X_test_new[10000:11000])\n",
    "ax1.plot(V_state_4_new[0][10000:11000],'r')"
   ]
  }
 ],
 "metadata": {
  "kernelspec": {
   "display_name": "Python 3",
   "language": "python",
   "name": "python3"
  },
  "language_info": {
   "codemirror_mode": {
    "name": "ipython",
    "version": 3
   },
   "file_extension": ".py",
   "mimetype": "text/x-python",
   "name": "python",
   "nbconvert_exporter": "python",
   "pygments_lexer": "ipython3",
   "version": "3.6.7"
  },
  "toc": {
   "base_numbering": 1,
   "nav_menu": {},
   "number_sections": true,
   "sideBar": true,
   "skip_h1_title": false,
   "title_cell": "Table of Contents",
   "title_sidebar": "Contents",
   "toc_cell": false,
   "toc_position": {},
   "toc_section_display": true,
   "toc_window_display": false
  }
 },
 "nbformat": 4,
 "nbformat_minor": 2
}
