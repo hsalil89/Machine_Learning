{
 "cells": [
  {
   "cell_type": "markdown",
   "metadata": {},
   "source": [
    "### Project Introduction\n",
    "H-1B is a visa category in USA under the Immigration and Nationality Act (INA), section 101(a)(15)(H) which allows U.S. employers to employ foreign workers with specialized skills that are difficult to staff from local workforce. The first step employer must take to hire a foreign worker is to file the Labor Condition Application. \n",
    "\n",
    "The Office of Foreign Labor Certification (OFLC) is a division of the U.S. Department of Labor and its main duty is to assist the Secretary of Labor to enforce part of the INA, which requires certain labor conditions exist before employers can hire foreign workers. \n",
    "\n",
    "The H1B Disclosure dataset is a publicly available and is updated quarterly by the OFLC which is available at the link below: https://www.foreignlaborcert.doleta.gov/performancedata.cfm\n",
    "\n",
    "training dataset - https://www.foreignlaborcert.doleta.gov/pdf/PerformanceData/2017/H-1B_Disclosure_Data_FY17.xlsx \n",
    "\n",
    "testing dataset - https://www.foreignlaborcert.doleta.gov/pdf/PerformanceData/2018/H-1B_FY2018.xlsx\n",
    "\n",
    "#### Aim of the project\n",
    "The aim of this project is to analyze data from the Labor Condition Applications and train a machine learning model that can predict the outcome of applications based on their attributes. In machine learning terminology, this is a high dimensional multi-class classification problem."
   ]
  },
  {
   "cell_type": "markdown",
   "metadata": {},
   "source": [
    "### Data Introduction\n",
    "The training and testing dataset has been downloaded to a local file location from the above website as CSV files. \n",
    "Training dataset is the export for applications filed from Sept 2016 to Sept 2017. \n",
    "\n",
    "Testing dataset is the export for applications filed between Oct 2017 to Dec 2017.\n",
    "\n",
    "**It is important to note that our test dataset is not a subset of the training dataset. We will be validating our model using real life OFLC dataset export for 2018. Hence train_test_split has not been used in the notebook.**\n",
    "\n",
    "Both the training and testing datasets have 51 attributes and 1 target field called CLASS_STATUS which gives the outcome of the application.\n",
    "\n",
    "**CLASS_STATUS has 4 valid values {Certified, Certified_Withdrawn, Withdrawn, Denied} **\n",
    "\n",
    "Certified means the LCA of an employer was approved. Certified Withdrawn means the case was withdrawn after it was certified by OFLC. Withdrawn means the case was withdrawn by the employer. Denied means the case was denied OFLC.\n"
   ]
  },
  {
   "cell_type": "markdown",
   "metadata": {},
   "source": [
    "We start by importing required python libaries and loading the training and testing datasets locally into pandas dataframes which makes data transformations easy."
   ]
  },
  {
   "cell_type": "code",
   "execution_count": 1,
   "metadata": {
    "ExecuteTime": {
     "end_time": "2018-04-26T02:59:08.563832Z",
     "start_time": "2018-04-26T02:59:06.719796Z"
    },
    "code_folding": [
     0
    ],
    "collapsed": true
   },
   "outputs": [],
   "source": [
    "#Import libraies and functions\n",
    "import pandas as pd\n",
    "import numpy as np\n",
    "import matplotlib.pyplot as plt\n",
    "from pandas import ExcelFile\n",
    "from datetime import date\n",
    "import seaborn as sns\n"
   ]
  },
  {
   "cell_type": "markdown",
   "metadata": {},
   "source": [
    "Import the training dataset into a dataframe"
   ]
  },
  {
   "cell_type": "code",
   "execution_count": 2,
   "metadata": {
    "ExecuteTime": {
     "end_time": "2018-04-26T03:03:28.202346Z",
     "start_time": "2018-04-26T02:59:08.564836Z"
    }
   },
   "outputs": [
    {
     "name": "stdout",
     "output_type": "stream",
     "text": [
      "Wall time: 4min 19s\n"
     ]
    }
   ],
   "source": [
    "%%time\n",
    "df = pd.read_excel('C:/Users/hsalil89/Documents/DS/AML/Final project/Data/H-1B_Disclosure_Data_FY17.xlsx', sheet_name=0)"
   ]
  },
  {
   "cell_type": "markdown",
   "metadata": {},
   "source": [
    "Import the testing dataset into another dataframe. We will be shelving the test dataset till the end of the project and will be using it only when our ML model is finalized, tuned and ready for testing."
   ]
  },
  {
   "cell_type": "code",
   "execution_count": 3,
   "metadata": {
    "ExecuteTime": {
     "end_time": "2018-04-26T03:04:07.969297Z",
     "start_time": "2018-04-26T03:03:28.205353Z"
    }
   },
   "outputs": [
    {
     "name": "stdout",
     "output_type": "stream",
     "text": [
      "Wall time: 39.8 s\n"
     ]
    }
   ],
   "source": [
    "%%time\n",
    "df_test = pd.read_excel('C:/Users/hsalil89/Documents/DS/AML/Final project/Data/H-1B_FY2018.xlsx', sheet_name=0)"
   ]
  },
  {
   "cell_type": "markdown",
   "metadata": {},
   "source": [
    "Given that we will be applying data transformations inplace on the training dataframe, we create a local copy of it again so we do not have to import it in case there happens to be an error in the preprocessing logic."
   ]
  },
  {
   "cell_type": "code",
   "execution_count": 4,
   "metadata": {
    "ExecuteTime": {
     "end_time": "2018-04-26T03:04:07.976317Z",
     "start_time": "2018-04-26T03:04:07.972308Z"
    },
    "collapsed": true
   },
   "outputs": [],
   "source": [
    "df_copy=df"
   ]
  },
  {
   "cell_type": "markdown",
   "metadata": {},
   "source": [
    "We take a quick peek at the data to understand its dimensionality, record count and target class values"
   ]
  },
  {
   "cell_type": "code",
   "execution_count": 5,
   "metadata": {
    "ExecuteTime": {
     "end_time": "2018-04-26T03:04:08.006396Z",
     "start_time": "2018-04-26T03:04:07.978321Z"
    },
    "code_folding": [
     0
    ]
   },
   "outputs": [
    {
     "name": "stdout",
     "output_type": "stream",
     "text": [
      "Number of records = 624650\n",
      "Number of features = 51\n",
      "Target class variable = CASE_STATUS with 4 valid values -['CERTIFIED', 'CERTIFIED-WITHDRAWN', 'DENIED', 'WITHDRAWN']\n"
     ]
    }
   ],
   "source": [
    "#Dimension of training dataset\n",
    "print(\"Number of records =\",df_copy['CASE_NUMBER'].size)\n",
    "print(\"Number of features =\",df_copy.columns.size -1)\n",
    "print(\"Target class variable = CASE_STATUS with 4 valid values -['CERTIFIED', 'CERTIFIED-WITHDRAWN', 'DENIED', 'WITHDRAWN']\")"
   ]
  },
  {
   "cell_type": "markdown",
   "metadata": {},
   "source": [
    "And here is how the data looks like"
   ]
  },
  {
   "cell_type": "code",
   "execution_count": 6,
   "metadata": {
    "ExecuteTime": {
     "end_time": "2018-04-26T03:04:08.061546Z",
     "start_time": "2018-04-26T03:04:08.009402Z"
    }
   },
   "outputs": [
    {
     "data": {
      "text/html": [
       "<div>\n",
       "<style>\n",
       "    .dataframe thead tr:only-child th {\n",
       "        text-align: right;\n",
       "    }\n",
       "\n",
       "    .dataframe thead th {\n",
       "        text-align: left;\n",
       "    }\n",
       "\n",
       "    .dataframe tbody tr th {\n",
       "        vertical-align: top;\n",
       "    }\n",
       "</style>\n",
       "<table border=\"1\" class=\"dataframe\">\n",
       "  <thead>\n",
       "    <tr style=\"text-align: right;\">\n",
       "      <th></th>\n",
       "      <th>CASE_NUMBER</th>\n",
       "      <th>CASE_STATUS</th>\n",
       "      <th>CASE_SUBMITTED</th>\n",
       "      <th>DECISION_DATE</th>\n",
       "      <th>VISA_CLASS</th>\n",
       "      <th>EMPLOYMENT_START_DATE</th>\n",
       "      <th>EMPLOYMENT_END_DATE</th>\n",
       "      <th>EMPLOYER_NAME</th>\n",
       "      <th>EMPLOYER_BUSINESS_DBA</th>\n",
       "      <th>EMPLOYER_ADDRESS</th>\n",
       "      <th>...</th>\n",
       "      <th>H1B_DEPENDENT</th>\n",
       "      <th>WILLFUL_VIOLATOR</th>\n",
       "      <th>SUPPORT_H1B</th>\n",
       "      <th>LABOR_CON_AGREE</th>\n",
       "      <th>PUBLIC_DISCLOSURE_LOCATION</th>\n",
       "      <th>WORKSITE_CITY</th>\n",
       "      <th>WORKSITE_COUNTY</th>\n",
       "      <th>WORKSITE_STATE</th>\n",
       "      <th>WORKSITE_POSTAL_CODE</th>\n",
       "      <th>ORIGINAL_CERT_DATE</th>\n",
       "    </tr>\n",
       "  </thead>\n",
       "  <tbody>\n",
       "    <tr>\n",
       "      <th>0</th>\n",
       "      <td>I-200-16055-173457</td>\n",
       "      <td>CERTIFIED-WITHDRAWN</td>\n",
       "      <td>2016-02-24</td>\n",
       "      <td>2016-10-01</td>\n",
       "      <td>H-1B</td>\n",
       "      <td>2016-08-10</td>\n",
       "      <td>2019-08-10</td>\n",
       "      <td>DISCOVER PRODUCTS INC.</td>\n",
       "      <td>NaN</td>\n",
       "      <td>2500 LAKE COOK ROAD</td>\n",
       "      <td>...</td>\n",
       "      <td>N</td>\n",
       "      <td>N</td>\n",
       "      <td>NaN</td>\n",
       "      <td>Y</td>\n",
       "      <td>NaN</td>\n",
       "      <td>RIVERWOODS</td>\n",
       "      <td>LAKE</td>\n",
       "      <td>IL</td>\n",
       "      <td>60015</td>\n",
       "      <td>2016-03-01</td>\n",
       "    </tr>\n",
       "    <tr>\n",
       "      <th>1</th>\n",
       "      <td>I-200-16064-557834</td>\n",
       "      <td>CERTIFIED-WITHDRAWN</td>\n",
       "      <td>2016-03-04</td>\n",
       "      <td>2016-10-01</td>\n",
       "      <td>H-1B</td>\n",
       "      <td>2016-08-16</td>\n",
       "      <td>2019-08-16</td>\n",
       "      <td>DFS SERVICES LLC</td>\n",
       "      <td>NaN</td>\n",
       "      <td>2500 LAKE COOK ROAD</td>\n",
       "      <td>...</td>\n",
       "      <td>N</td>\n",
       "      <td>N</td>\n",
       "      <td>NaN</td>\n",
       "      <td>Y</td>\n",
       "      <td>NaN</td>\n",
       "      <td>RIVERWOODS</td>\n",
       "      <td>LAKE</td>\n",
       "      <td>IL</td>\n",
       "      <td>60015</td>\n",
       "      <td>2016-03-08</td>\n",
       "    </tr>\n",
       "    <tr>\n",
       "      <th>2</th>\n",
       "      <td>I-200-16063-996093</td>\n",
       "      <td>CERTIFIED-WITHDRAWN</td>\n",
       "      <td>2016-03-10</td>\n",
       "      <td>2016-10-01</td>\n",
       "      <td>H-1B</td>\n",
       "      <td>2016-09-09</td>\n",
       "      <td>2019-09-09</td>\n",
       "      <td>EASTBANC TECHNOLOGIES LLC</td>\n",
       "      <td>NaN</td>\n",
       "      <td>1211 31ST ST. NW</td>\n",
       "      <td>...</td>\n",
       "      <td>Y</td>\n",
       "      <td>N</td>\n",
       "      <td>Y</td>\n",
       "      <td>NaN</td>\n",
       "      <td>NaN</td>\n",
       "      <td>WASHINGTON</td>\n",
       "      <td>NaN</td>\n",
       "      <td>DC</td>\n",
       "      <td>20007</td>\n",
       "      <td>2016-03-16</td>\n",
       "    </tr>\n",
       "    <tr>\n",
       "      <th>3</th>\n",
       "      <td>I-200-16272-196340</td>\n",
       "      <td>WITHDRAWN</td>\n",
       "      <td>2016-09-28</td>\n",
       "      <td>2016-10-01</td>\n",
       "      <td>H-1B</td>\n",
       "      <td>2017-01-26</td>\n",
       "      <td>2020-01-25</td>\n",
       "      <td>INFO SERVICES LLC</td>\n",
       "      <td>NaN</td>\n",
       "      <td>17177 NORTH LAUREL PARK DR</td>\n",
       "      <td>...</td>\n",
       "      <td>Y</td>\n",
       "      <td>N</td>\n",
       "      <td>Y</td>\n",
       "      <td>NaN</td>\n",
       "      <td>NaN</td>\n",
       "      <td>JERSEY CITY</td>\n",
       "      <td>HUDSON</td>\n",
       "      <td>NJ</td>\n",
       "      <td>07302</td>\n",
       "      <td>NaT</td>\n",
       "    </tr>\n",
       "    <tr>\n",
       "      <th>4</th>\n",
       "      <td>I-200-15053-636744</td>\n",
       "      <td>CERTIFIED-WITHDRAWN</td>\n",
       "      <td>2015-02-22</td>\n",
       "      <td>2016-10-02</td>\n",
       "      <td>H-1B</td>\n",
       "      <td>2015-03-01</td>\n",
       "      <td>2018-03-01</td>\n",
       "      <td>BB&amp;T CORPORATION</td>\n",
       "      <td>NaN</td>\n",
       "      <td>223 WEST NASH STREET</td>\n",
       "      <td>...</td>\n",
       "      <td>N</td>\n",
       "      <td>N</td>\n",
       "      <td>NaN</td>\n",
       "      <td>Y</td>\n",
       "      <td>NaN</td>\n",
       "      <td>NEW YORK</td>\n",
       "      <td>NEW YORK</td>\n",
       "      <td>NY</td>\n",
       "      <td>10036</td>\n",
       "      <td>2015-02-26</td>\n",
       "    </tr>\n",
       "  </tbody>\n",
       "</table>\n",
       "<p>5 rows × 52 columns</p>\n",
       "</div>"
      ],
      "text/plain": [
       "          CASE_NUMBER          CASE_STATUS CASE_SUBMITTED DECISION_DATE  \\\n",
       "0  I-200-16055-173457  CERTIFIED-WITHDRAWN     2016-02-24    2016-10-01   \n",
       "1  I-200-16064-557834  CERTIFIED-WITHDRAWN     2016-03-04    2016-10-01   \n",
       "2  I-200-16063-996093  CERTIFIED-WITHDRAWN     2016-03-10    2016-10-01   \n",
       "3  I-200-16272-196340            WITHDRAWN     2016-09-28    2016-10-01   \n",
       "4  I-200-15053-636744  CERTIFIED-WITHDRAWN     2015-02-22    2016-10-02   \n",
       "\n",
       "  VISA_CLASS EMPLOYMENT_START_DATE EMPLOYMENT_END_DATE  \\\n",
       "0       H-1B            2016-08-10          2019-08-10   \n",
       "1       H-1B            2016-08-16          2019-08-16   \n",
       "2       H-1B            2016-09-09          2019-09-09   \n",
       "3       H-1B            2017-01-26          2020-01-25   \n",
       "4       H-1B            2015-03-01          2018-03-01   \n",
       "\n",
       "               EMPLOYER_NAME EMPLOYER_BUSINESS_DBA  \\\n",
       "0     DISCOVER PRODUCTS INC.                   NaN   \n",
       "1           DFS SERVICES LLC                   NaN   \n",
       "2  EASTBANC TECHNOLOGIES LLC                   NaN   \n",
       "3          INFO SERVICES LLC                   NaN   \n",
       "4           BB&T CORPORATION                   NaN   \n",
       "\n",
       "             EMPLOYER_ADDRESS        ...         H1B_DEPENDENT  \\\n",
       "0         2500 LAKE COOK ROAD        ...                     N   \n",
       "1         2500 LAKE COOK ROAD        ...                     N   \n",
       "2            1211 31ST ST. NW        ...                     Y   \n",
       "3  17177 NORTH LAUREL PARK DR        ...                     Y   \n",
       "4        223 WEST NASH STREET        ...                     N   \n",
       "\n",
       "  WILLFUL_VIOLATOR SUPPORT_H1B LABOR_CON_AGREE PUBLIC_DISCLOSURE_LOCATION  \\\n",
       "0                N         NaN               Y                        NaN   \n",
       "1                N         NaN               Y                        NaN   \n",
       "2                N           Y             NaN                        NaN   \n",
       "3                N           Y             NaN                        NaN   \n",
       "4                N         NaN               Y                        NaN   \n",
       "\n",
       "  WORKSITE_CITY WORKSITE_COUNTY WORKSITE_STATE WORKSITE_POSTAL_CODE  \\\n",
       "0    RIVERWOODS            LAKE             IL                60015   \n",
       "1    RIVERWOODS            LAKE             IL                60015   \n",
       "2    WASHINGTON             NaN             DC                20007   \n",
       "3   JERSEY CITY          HUDSON             NJ                07302   \n",
       "4      NEW YORK        NEW YORK             NY                10036   \n",
       "\n",
       "  ORIGINAL_CERT_DATE  \n",
       "0         2016-03-01  \n",
       "1         2016-03-08  \n",
       "2         2016-03-16  \n",
       "3                NaT  \n",
       "4         2015-02-26  \n",
       "\n",
       "[5 rows x 52 columns]"
      ]
     },
     "execution_count": 6,
     "metadata": {},
     "output_type": "execute_result"
    }
   ],
   "source": [
    "df_copy.head()"
   ]
  },
  {
   "cell_type": "markdown",
   "metadata": {},
   "source": [
    "### Exploratory Data Analysis\n",
    "Now that we are clear with what we want to do in this project, let us understand the data better by performing some Exploratory Data Analysis (EDA). This is the critical first step in solving any ML problem because we get good insights about the data, its quality, interrelationships between features and the distribution of values within them. EDA also unfolds patterns in the data that may not be easily visible by just looking at it. EDA essentially drives the ML process flow and tells us what preprocessing techniques are needed to clean the data, whether feature selection will need to be done and finally what ML algorithm may be best suited for this dataset.\n",
    "\n",
    "We will track and note any observations as we do EDA as they are going to drive our data preprocessing steps."
   ]
  },
  {
   "cell_type": "markdown",
   "metadata": {},
   "source": [
    "**We start by plotting the percent distribution of output class values to understand how the training dataset is distributed with respect to output class values.**"
   ]
  },
  {
   "cell_type": "code",
   "execution_count": 7,
   "metadata": {
    "ExecuteTime": {
     "end_time": "2018-04-26T03:04:08.360290Z",
     "start_time": "2018-04-26T03:04:08.065553Z"
    }
   },
   "outputs": [
    {
     "data": {
      "image/png": "[encoded data removed]",
      "text/plain": [
       "<matplotlib.figure.Figure at 0x1a19c14da20>"
      ]
     },
     "metadata": {},
     "output_type": "display_data"
    }
   ],
   "source": [
    "#Percent distribution of data wrt target class\n",
    "df_copy.groupby('CASE_STATUS').size()*100/df_copy['CASE_NUMBER'].size\n",
    "plt.figure(figsize=(8, 4))\n",
    "plt.bar(np.arange(4), df_copy.groupby('CASE_STATUS').size().values*100/df_copy['CASE_NUMBER'].size, color=\"blue\", width=0.3)\n",
    "plt.xticks(np.arange(4), ['CERTIFIED','CERTIFIED-WITHDRAWN' , 'DENIED', 'WITHDRAWN'])\n",
    "plt.title='Data distribution wrt target class'\n",
    "plt.show()"
   ]
  },
  {
   "cell_type": "markdown",
   "metadata": {},
   "source": [
    "**Observation** - The data is highly skewed in favor of CASE_STATUS = CERTIFIED which makes up close to 90% all training dataset.\n",
    "\n",
    "**Preprocessing action** - As we know this is real life data, we do not want to change its distribution to make it uniform. However to reduce the skewness a bit, we will consider combining the 3 minority classes - {CERTIFIED-WITHDRAWN,DENIED,WITHDRAWN} into a single class called NOT CERTIFIED. This change will also convert our machine learning problem from a multinomial classification to a binary classification problem."
   ]
  },
  {
   "cell_type": "markdown",
   "metadata": {},
   "source": [
    "**Next, lets check if there are any records with VISA CLASS other than H1B or EMPLOYER COUNTRY other than USA**"
   ]
  },
  {
   "cell_type": "code",
   "execution_count": 8,
   "metadata": {
    "ExecuteTime": {
     "end_time": "2018-04-26T03:04:08.419451Z",
     "start_time": "2018-04-26T03:04:08.363299Z"
    }
   },
   "outputs": [
    {
     "data": {
      "text/plain": [
       "VISA_CLASS\n",
       "E-3 Australian      12157\n",
       "H-1B               610304\n",
       "H-1B1 Chile           935\n",
       "H-1B1 Singapore      1254\n",
       "dtype: int64"
      ]
     },
     "execution_count": 8,
     "metadata": {},
     "output_type": "execute_result"
    }
   ],
   "source": [
    "#Visa class other than H1B?\n",
    "df_copy.groupby('VISA_CLASS').size()"
   ]
  },
  {
   "cell_type": "code",
   "execution_count": 9,
   "metadata": {
    "ExecuteTime": {
     "end_time": "2018-04-26T03:04:08.483621Z",
     "start_time": "2018-04-26T03:04:08.422457Z"
    }
   },
   "outputs": [
    {
     "data": {
      "text/plain": [
       "EMPLOYER_COUNTRY\n",
       "AUSTRALIA                        2\n",
       "CAMBODIA                         1\n",
       "CANADA                           7\n",
       "CHINA                            1\n",
       "UNITED STATES OF AMERICA    528132\n",
       "dtype: int64"
      ]
     },
     "execution_count": 9,
     "metadata": {},
     "output_type": "execute_result"
    }
   ],
   "source": [
    "#Employer Country other than USA?\n",
    "df_copy.groupby('EMPLOYER_COUNTRY').size()"
   ]
  },
  {
   "cell_type": "markdown",
   "metadata": {},
   "source": [
    "**Observation** - There are some records where VISA CLASS is other than H1B and EMPLOYER COUNTRY is other than USA. The scope of this problem is only to predict LCA outcomes **applicable for H1B visa for US employer**.\n",
    "\n",
    "**Preprocessing action** - We will need to filter such records that are out of scope of our current problem statement."
   ]
  },
  {
   "cell_type": "markdown",
   "metadata": {},
   "source": [
    "**Lets run a statistical description of the training features and plot histograms to understand more about their distribution**"
   ]
  },
  {
   "cell_type": "code",
   "execution_count": 10,
   "metadata": {
    "ExecuteTime": {
     "end_time": "2018-04-26T03:04:09.047304Z",
     "start_time": "2018-04-26T03:04:08.486628Z"
    }
   },
   "outputs": [
    {
     "data": {
      "text/html": [
       "<div>\n",
       "<style>\n",
       "    .dataframe thead tr:only-child th {\n",
       "        text-align: right;\n",
       "    }\n",
       "\n",
       "    .dataframe thead th {\n",
       "        text-align: left;\n",
       "    }\n",
       "\n",
       "    .dataframe tbody tr th {\n",
       "        vertical-align: top;\n",
       "    }\n",
       "</style>\n",
       "<table border=\"1\" class=\"dataframe\">\n",
       "  <thead>\n",
       "    <tr style=\"text-align: right;\">\n",
       "      <th></th>\n",
       "      <th>TOTAL_WORKERS</th>\n",
       "      <th>NEW_EMPLOYMENT</th>\n",
       "      <th>CONTINUED_EMPLOYMENT</th>\n",
       "      <th>CHANGE_PREVIOUS_EMPLOYMENT</th>\n",
       "      <th>NEW_CONCURRENT_EMPLOYMENT</th>\n",
       "      <th>CHANGE_EMPLOYER</th>\n",
       "      <th>AMENDED_PETITION</th>\n",
       "      <th>PREVAILING_WAGE</th>\n",
       "      <th>PW_SOURCE_YEAR</th>\n",
       "      <th>WAGE_RATE_OF_PAY_FROM</th>\n",
       "      <th>WAGE_RATE_OF_PAY_TO</th>\n",
       "      <th>PUBLIC_DISCLOSURE_LOCATION</th>\n",
       "    </tr>\n",
       "  </thead>\n",
       "  <tbody>\n",
       "    <tr>\n",
       "      <th>count</th>\n",
       "      <td>624650.000000</td>\n",
       "      <td>624650.000000</td>\n",
       "      <td>624650.000000</td>\n",
       "      <td>624650.000000</td>\n",
       "      <td>624650.000000</td>\n",
       "      <td>624650.000000</td>\n",
       "      <td>624650.000000</td>\n",
       "      <td>6.246490e+05</td>\n",
       "      <td>624605.000000</td>\n",
       "      <td>6.246500e+05</td>\n",
       "      <td>6.246490e+05</td>\n",
       "      <td>0.0</td>\n",
       "    </tr>\n",
       "    <tr>\n",
       "      <th>mean</th>\n",
       "      <td>1.893800</td>\n",
       "      <td>0.834251</td>\n",
       "      <td>0.326300</td>\n",
       "      <td>0.130657</td>\n",
       "      <td>0.008979</td>\n",
       "      <td>0.259485</td>\n",
       "      <td>0.332703</td>\n",
       "      <td>7.321117e+04</td>\n",
       "      <td>2016.167059</td>\n",
       "      <td>8.285702e+04</td>\n",
       "      <td>2.416596e+04</td>\n",
       "      <td>NaN</td>\n",
       "    </tr>\n",
       "    <tr>\n",
       "      <th>std</th>\n",
       "      <td>4.826703</td>\n",
       "      <td>3.556236</td>\n",
       "      <td>1.243793</td>\n",
       "      <td>0.955791</td>\n",
       "      <td>0.157690</td>\n",
       "      <td>1.095563</td>\n",
       "      <td>1.418231</td>\n",
       "      <td>2.574025e+05</td>\n",
       "      <td>5.128159</td>\n",
       "      <td>4.266316e+04</td>\n",
       "      <td>5.255090e+04</td>\n",
       "      <td>NaN</td>\n",
       "    </tr>\n",
       "    <tr>\n",
       "      <th>min</th>\n",
       "      <td>0.000000</td>\n",
       "      <td>0.000000</td>\n",
       "      <td>0.000000</td>\n",
       "      <td>0.000000</td>\n",
       "      <td>0.000000</td>\n",
       "      <td>0.000000</td>\n",
       "      <td>0.000000</td>\n",
       "      <td>0.000000e+00</td>\n",
       "      <td>0.000000</td>\n",
       "      <td>0.000000e+00</td>\n",
       "      <td>0.000000e+00</td>\n",
       "      <td>NaN</td>\n",
       "    </tr>\n",
       "    <tr>\n",
       "      <th>25%</th>\n",
       "      <td>1.000000</td>\n",
       "      <td>0.000000</td>\n",
       "      <td>0.000000</td>\n",
       "      <td>0.000000</td>\n",
       "      <td>0.000000</td>\n",
       "      <td>0.000000</td>\n",
       "      <td>0.000000</td>\n",
       "      <td>5.682600e+04</td>\n",
       "      <td>2016.000000</td>\n",
       "      <td>6.300000e+04</td>\n",
       "      <td>0.000000e+00</td>\n",
       "      <td>NaN</td>\n",
       "    </tr>\n",
       "    <tr>\n",
       "      <th>50%</th>\n",
       "      <td>1.000000</td>\n",
       "      <td>0.000000</td>\n",
       "      <td>0.000000</td>\n",
       "      <td>0.000000</td>\n",
       "      <td>0.000000</td>\n",
       "      <td>0.000000</td>\n",
       "      <td>0.000000</td>\n",
       "      <td>7.022100e+04</td>\n",
       "      <td>2016.000000</td>\n",
       "      <td>7.600000e+04</td>\n",
       "      <td>0.000000e+00</td>\n",
       "      <td>NaN</td>\n",
       "    </tr>\n",
       "    <tr>\n",
       "      <th>75%</th>\n",
       "      <td>1.000000</td>\n",
       "      <td>1.000000</td>\n",
       "      <td>0.000000</td>\n",
       "      <td>0.000000</td>\n",
       "      <td>0.000000</td>\n",
       "      <td>0.000000</td>\n",
       "      <td>0.000000</td>\n",
       "      <td>8.914900e+04</td>\n",
       "      <td>2017.000000</td>\n",
       "      <td>1.000000e+05</td>\n",
       "      <td>0.000000e+00</td>\n",
       "      <td>NaN</td>\n",
       "    </tr>\n",
       "    <tr>\n",
       "      <th>max</th>\n",
       "      <td>155.000000</td>\n",
       "      <td>150.000000</td>\n",
       "      <td>55.000000</td>\n",
       "      <td>50.000000</td>\n",
       "      <td>50.000000</td>\n",
       "      <td>150.000000</td>\n",
       "      <td>50.000000</td>\n",
       "      <td>2.016227e+08</td>\n",
       "      <td>2017.000000</td>\n",
       "      <td>1.688000e+06</td>\n",
       "      <td>3.000000e+06</td>\n",
       "      <td>NaN</td>\n",
       "    </tr>\n",
       "  </tbody>\n",
       "</table>\n",
       "</div>"
      ],
      "text/plain": [
       "       TOTAL_WORKERS  NEW_EMPLOYMENT  CONTINUED_EMPLOYMENT  \\\n",
       "count  624650.000000   624650.000000         624650.000000   \n",
       "mean        1.893800        0.834251              0.326300   \n",
       "std         4.826703        3.556236              1.243793   \n",
       "min         0.000000        0.000000              0.000000   \n",
       "25%         1.000000        0.000000              0.000000   \n",
       "50%         1.000000        0.000000              0.000000   \n",
       "75%         1.000000        1.000000              0.000000   \n",
       "max       155.000000      150.000000             55.000000   \n",
       "\n",
       "       CHANGE_PREVIOUS_EMPLOYMENT  NEW_CONCURRENT_EMPLOYMENT  CHANGE_EMPLOYER  \\\n",
       "count               624650.000000              624650.000000    624650.000000   \n",
       "mean                     0.130657                   0.008979         0.259485   \n",
       "std                      0.955791                   0.157690         1.095563   \n",
       "min                      0.000000                   0.000000         0.000000   \n",
       "25%                      0.000000                   0.000000         0.000000   \n",
       "50%                      0.000000                   0.000000         0.000000   \n",
       "75%                      0.000000                   0.000000         0.000000   \n",
       "max                     50.000000                  50.000000       150.000000   \n",
       "\n",
       "       AMENDED_PETITION  PREVAILING_WAGE  PW_SOURCE_YEAR  \\\n",
       "count     624650.000000     6.246490e+05   624605.000000   \n",
       "mean           0.332703     7.321117e+04     2016.167059   \n",
       "std            1.418231     2.574025e+05        5.128159   \n",
       "min            0.000000     0.000000e+00        0.000000   \n",
       "25%            0.000000     5.682600e+04     2016.000000   \n",
       "50%            0.000000     7.022100e+04     2016.000000   \n",
       "75%            0.000000     8.914900e+04     2017.000000   \n",
       "max           50.000000     2.016227e+08     2017.000000   \n",
       "\n",
       "       WAGE_RATE_OF_PAY_FROM  WAGE_RATE_OF_PAY_TO  PUBLIC_DISCLOSURE_LOCATION  \n",
       "count           6.246500e+05         6.246490e+05                         0.0  \n",
       "mean            8.285702e+04         2.416596e+04                         NaN  \n",
       "std             4.266316e+04         5.255090e+04                         NaN  \n",
       "min             0.000000e+00         0.000000e+00                         NaN  \n",
       "25%             6.300000e+04         0.000000e+00                         NaN  \n",
       "50%             7.600000e+04         0.000000e+00                         NaN  \n",
       "75%             1.000000e+05         0.000000e+00                         NaN  \n",
       "max             1.688000e+06         3.000000e+06                         NaN  "
      ]
     },
     "execution_count": 10,
     "metadata": {},
     "output_type": "execute_result"
    }
   ],
   "source": [
    "#statistically describe the training dataset\n",
    "df_copy.describe()"
   ]
  },
  {
   "cell_type": "code",
   "execution_count": 11,
   "metadata": {
    "ExecuteTime": {
     "end_time": "2018-04-26T03:04:13.444029Z",
     "start_time": "2018-04-26T03:04:09.049310Z"
    },
    "scrolled": true
   },
   "outputs": [
    {
     "data": {
      "image/png": "[encoded data removed]",
      "text/plain": [
       "<matplotlib.figure.Figure at 0x1a1a0bbbdd8>"
      ]
     },
     "metadata": {},
     "output_type": "display_data"
    }
   ],
   "source": [
    "#plot histograms\n",
    "#expand resultset to view full content\n",
    "df_copy.hist(bins=100, figsize=(20,15))\n",
    "plt.show()"
   ]
  },
  {
   "cell_type": "markdown",
   "metadata": {},
   "source": [
    "**Observation - ** As statistical description is available only for numerical features, we can infer from the above results that majority of the input features are categorical in nature. For those that are numerical, based on the histograms it can be infered that most of them have a limited number of values. The scale is also not uniform.\n",
    "\n",
    "**Preprocessing action - ** Categorical columns need to be encoded to numerical values. Feature scaling will be needed for numerical columns. "
   ]
  },
  {
   "cell_type": "markdown",
   "metadata": {},
   "source": [
    "**As noted earlier, this is a high dimensional input feature set with majority of fields being categorical in nature. To aid feature selection, it is critical to know the completeness of each feature.** We will create a table showing feature type (Categorical/Numerical/Date), number of unique values and % Null counts in the feature."
   ]
  },
  {
   "cell_type": "code",
   "execution_count": 12,
   "metadata": {
    "ExecuteTime": {
     "end_time": "2018-04-26T03:04:13.459622Z",
     "start_time": "2018-04-26T03:04:13.444029Z"
    },
    "collapsed": true
   },
   "outputs": [],
   "source": [
    "Input_features=pd.DataFrame(index=df_copy.columns,columns=['Feature type','Number of unique values','% Null counts'])"
   ]
  },
  {
   "cell_type": "code",
   "execution_count": 13,
   "metadata": {
    "ExecuteTime": {
     "end_time": "2018-04-26T03:04:13.490615Z",
     "start_time": "2018-04-26T03:04:13.459622Z"
    },
    "code_folding": [
     1
    ],
    "collapsed": true
   },
   "outputs": [],
   "source": [
    "#Manually compiled list of categorical, numerical and date features based on data inspection\n",
    "Categorical_features=['CASE_STATUS','VISA_CLASS','EMPLOYER_NAME', 'EMPLOYER_BUSINESS_DBA', 'EMPLOYER_ADDRESS','EMPLOYER_CITY', 'EMPLOYER_STATE', \n",
    " 'EMPLOYER_POSTAL_CODE', 'EMPLOYER_COUNTRY', 'EMPLOYER_PROVINCE', 'EMPLOYER_PHONE', 'EMPLOYER_PHONE_EXT', 'AGENT_REPRESENTING_EMPLOYER',\n",
    " 'AGENT_ATTORNEY_NAME', 'AGENT_ATTORNEY_CITY', 'AGENT_ATTORNEY_STATE','JOB_TITLE', 'SOC_CODE', 'SOC_NAME', 'NAICS_CODE','NEW_EMPLOYMENT', \n",
    " 'CONTINUED_EMPLOYMENT', 'CHANGE_PREVIOUS_EMPLOYMENT','NEW_CONCURRENT_EMPLOYMENT', 'CHANGE_EMPLOYER', 'AMENDED_PETITION', 'FULL_TIME_POSITION',\n",
    " 'PW_UNIT_OF_PAY','PW_WAGE_LEVEL', 'PW_SOURCE', 'PW_SOURCE_YEAR', 'PW_SOURCE_OTHER','WAGE_UNIT_OF_PAY', 'H-1B_DEPENDENT', 'WILLFUL_VIOLATOR', \n",
    " 'SUPPORT_H1B', 'LABOR_CON_AGREE','PUBLIC_DISCLOSURE_LOCATION', 'WORKSITE_CITY', 'WORKSITE_COUNTY','WORKSITE_STATE', \n",
    " 'WORKSITE_POSTAL_CODE']\n",
    "Numerical_features=['CASE_NUMBER', 'TOTAL_WORKERS','PREVAILING_WAGE','WAGE_RATE_OF_PAY_FROM', 'WAGE_RATE_OF_PAY_TO']\n",
    "Date_features=['CASE_SUBMITTED', 'DECISION_DATE','EMPLOYMENT_START_DATE', 'EMPLOYMENT_END_DATE','ORIGINAL_CERT_DATE']"
   ]
  },
  {
   "cell_type": "code",
   "execution_count": 14,
   "metadata": {
    "ExecuteTime": {
     "end_time": "2018-04-26T03:04:16.101016Z",
     "start_time": "2018-04-26T03:04:13.496629Z"
    },
    "collapsed": true
   },
   "outputs": [],
   "source": [
    "for col in df_copy.columns:\n",
    "    #Feature type\n",
    "    if col in Categorical_features:\n",
    "        Input_features['Feature type'].loc[col]='Categorical'\n",
    "    elif col in Numerical_features:\n",
    "        Input_features['Feature type'].loc[col]='Numerical'\n",
    "    else:\n",
    "        Input_features['Feature type'].loc[col]='Date'\n",
    "    #Number of valid values\n",
    "    Input_features['Number of unique values'].loc[col]=pd.unique(df_copy[col]).size\n",
    "    #Null counts\n",
    "    Input_features['% Null counts'].loc[col]=np.round(df_copy[col][pd.isnull(df_copy[col])].size*100/df_copy['CASE_NUMBER'].size,2)"
   ]
  },
  {
   "cell_type": "code",
   "execution_count": 15,
   "metadata": {
    "ExecuteTime": {
     "end_time": "2018-04-26T03:04:16.124037Z",
     "start_time": "2018-04-26T03:04:16.101016Z"
    },
    "scrolled": true
   },
   "outputs": [
    {
     "data": {
      "text/html": [
       "<div>\n",
       "<style>\n",
       "    .dataframe thead tr:only-child th {\n",
       "        text-align: right;\n",
       "    }\n",
       "\n",
       "    .dataframe thead th {\n",
       "        text-align: left;\n",
       "    }\n",
       "\n",
       "    .dataframe tbody tr th {\n",
       "        vertical-align: top;\n",
       "    }\n",
       "</style>\n",
       "<table border=\"1\" class=\"dataframe\">\n",
       "  <thead>\n",
       "    <tr style=\"text-align: right;\">\n",
       "      <th></th>\n",
       "      <th>Feature type</th>\n",
       "      <th>Number of unique values</th>\n",
       "      <th>% Null counts</th>\n",
       "    </tr>\n",
       "  </thead>\n",
       "  <tbody>\n",
       "    <tr>\n",
       "      <th>CASE_NUMBER</th>\n",
       "      <td>Numerical</td>\n",
       "      <td>624650</td>\n",
       "      <td>0</td>\n",
       "    </tr>\n",
       "    <tr>\n",
       "      <th>CASE_STATUS</th>\n",
       "      <td>Categorical</td>\n",
       "      <td>4</td>\n",
       "      <td>0</td>\n",
       "    </tr>\n",
       "    <tr>\n",
       "      <th>CASE_SUBMITTED</th>\n",
       "      <td>Date</td>\n",
       "      <td>1323</td>\n",
       "      <td>0</td>\n",
       "    </tr>\n",
       "    <tr>\n",
       "      <th>DECISION_DATE</th>\n",
       "      <td>Date</td>\n",
       "      <td>358</td>\n",
       "      <td>0</td>\n",
       "    </tr>\n",
       "    <tr>\n",
       "      <th>VISA_CLASS</th>\n",
       "      <td>Categorical</td>\n",
       "      <td>4</td>\n",
       "      <td>0</td>\n",
       "    </tr>\n",
       "    <tr>\n",
       "      <th>EMPLOYMENT_START_DATE</th>\n",
       "      <td>Date</td>\n",
       "      <td>1599</td>\n",
       "      <td>0</td>\n",
       "    </tr>\n",
       "    <tr>\n",
       "      <th>EMPLOYMENT_END_DATE</th>\n",
       "      <td>Date</td>\n",
       "      <td>1646</td>\n",
       "      <td>0</td>\n",
       "    </tr>\n",
       "    <tr>\n",
       "      <th>EMPLOYER_NAME</th>\n",
       "      <td>Categorical</td>\n",
       "      <td>71171</td>\n",
       "      <td>0.01</td>\n",
       "    </tr>\n",
       "    <tr>\n",
       "      <th>EMPLOYER_BUSINESS_DBA</th>\n",
       "      <td>Categorical</td>\n",
       "      <td>9442</td>\n",
       "      <td>93.07</td>\n",
       "    </tr>\n",
       "    <tr>\n",
       "      <th>EMPLOYER_ADDRESS</th>\n",
       "      <td>Categorical</td>\n",
       "      <td>64379</td>\n",
       "      <td>0</td>\n",
       "    </tr>\n",
       "    <tr>\n",
       "      <th>EMPLOYER_CITY</th>\n",
       "      <td>Categorical</td>\n",
       "      <td>5124</td>\n",
       "      <td>0</td>\n",
       "    </tr>\n",
       "    <tr>\n",
       "      <th>EMPLOYER_STATE</th>\n",
       "      <td>Categorical</td>\n",
       "      <td>58</td>\n",
       "      <td>0</td>\n",
       "    </tr>\n",
       "    <tr>\n",
       "      <th>EMPLOYER_POSTAL_CODE</th>\n",
       "      <td>Categorical</td>\n",
       "      <td>10963</td>\n",
       "      <td>0</td>\n",
       "    </tr>\n",
       "    <tr>\n",
       "      <th>EMPLOYER_COUNTRY</th>\n",
       "      <td>Categorical</td>\n",
       "      <td>6</td>\n",
       "      <td>15.45</td>\n",
       "    </tr>\n",
       "    <tr>\n",
       "      <th>EMPLOYER_PROVINCE</th>\n",
       "      <td>Categorical</td>\n",
       "      <td>314</td>\n",
       "      <td>99.02</td>\n",
       "    </tr>\n",
       "    <tr>\n",
       "      <th>EMPLOYER_PHONE</th>\n",
       "      <td>Categorical</td>\n",
       "      <td>64038</td>\n",
       "      <td>15.45</td>\n",
       "    </tr>\n",
       "    <tr>\n",
       "      <th>EMPLOYER_PHONE_EXT</th>\n",
       "      <td>Categorical</td>\n",
       "      <td>1060</td>\n",
       "      <td>95.54</td>\n",
       "    </tr>\n",
       "    <tr>\n",
       "      <th>AGENT_REPRESENTING_EMPLOYER</th>\n",
       "      <td>Categorical</td>\n",
       "      <td>3</td>\n",
       "      <td>15.45</td>\n",
       "    </tr>\n",
       "    <tr>\n",
       "      <th>AGENT_ATTORNEY_NAME</th>\n",
       "      <td>Categorical</td>\n",
       "      <td>6621</td>\n",
       "      <td>0</td>\n",
       "    </tr>\n",
       "    <tr>\n",
       "      <th>AGENT_ATTORNEY_CITY</th>\n",
       "      <td>Categorical</td>\n",
       "      <td>1082</td>\n",
       "      <td>43.75</td>\n",
       "    </tr>\n",
       "    <tr>\n",
       "      <th>AGENT_ATTORNEY_STATE</th>\n",
       "      <td>Categorical</td>\n",
       "      <td>56</td>\n",
       "      <td>46.21</td>\n",
       "    </tr>\n",
       "    <tr>\n",
       "      <th>JOB_TITLE</th>\n",
       "      <td>Categorical</td>\n",
       "      <td>93013</td>\n",
       "      <td>0</td>\n",
       "    </tr>\n",
       "    <tr>\n",
       "      <th>SOC_CODE</th>\n",
       "      <td>Categorical</td>\n",
       "      <td>737</td>\n",
       "      <td>0</td>\n",
       "    </tr>\n",
       "    <tr>\n",
       "      <th>SOC_NAME</th>\n",
       "      <td>Categorical</td>\n",
       "      <td>868</td>\n",
       "      <td>0</td>\n",
       "    </tr>\n",
       "    <tr>\n",
       "      <th>NAICS_CODE</th>\n",
       "      <td>Categorical</td>\n",
       "      <td>2082</td>\n",
       "      <td>0</td>\n",
       "    </tr>\n",
       "    <tr>\n",
       "      <th>TOTAL_WORKERS</th>\n",
       "      <td>Numerical</td>\n",
       "      <td>55</td>\n",
       "      <td>0</td>\n",
       "    </tr>\n",
       "    <tr>\n",
       "      <th>NEW_EMPLOYMENT</th>\n",
       "      <td>Categorical</td>\n",
       "      <td>50</td>\n",
       "      <td>0</td>\n",
       "    </tr>\n",
       "    <tr>\n",
       "      <th>CONTINUED_EMPLOYMENT</th>\n",
       "      <td>Categorical</td>\n",
       "      <td>25</td>\n",
       "      <td>0</td>\n",
       "    </tr>\n",
       "    <tr>\n",
       "      <th>CHANGE_PREVIOUS_EMPLOYMENT</th>\n",
       "      <td>Categorical</td>\n",
       "      <td>19</td>\n",
       "      <td>0</td>\n",
       "    </tr>\n",
       "    <tr>\n",
       "      <th>NEW_CONCURRENT_EMPLOYMENT</th>\n",
       "      <td>Categorical</td>\n",
       "      <td>10</td>\n",
       "      <td>0</td>\n",
       "    </tr>\n",
       "    <tr>\n",
       "      <th>CHANGE_EMPLOYER</th>\n",
       "      <td>Categorical</td>\n",
       "      <td>23</td>\n",
       "      <td>0</td>\n",
       "    </tr>\n",
       "    <tr>\n",
       "      <th>AMENDED_PETITION</th>\n",
       "      <td>Categorical</td>\n",
       "      <td>20</td>\n",
       "      <td>0</td>\n",
       "    </tr>\n",
       "    <tr>\n",
       "      <th>FULL_TIME_POSITION</th>\n",
       "      <td>Categorical</td>\n",
       "      <td>3</td>\n",
       "      <td>0</td>\n",
       "    </tr>\n",
       "    <tr>\n",
       "      <th>PREVAILING_WAGE</th>\n",
       "      <td>Numerical</td>\n",
       "      <td>25133</td>\n",
       "      <td>0</td>\n",
       "    </tr>\n",
       "    <tr>\n",
       "      <th>PW_UNIT_OF_PAY</th>\n",
       "      <td>Categorical</td>\n",
       "      <td>6</td>\n",
       "      <td>0.01</td>\n",
       "    </tr>\n",
       "    <tr>\n",
       "      <th>PW_WAGE_LEVEL</th>\n",
       "      <td>Categorical</td>\n",
       "      <td>5</td>\n",
       "      <td>19.81</td>\n",
       "    </tr>\n",
       "    <tr>\n",
       "      <th>PW_SOURCE</th>\n",
       "      <td>Categorical</td>\n",
       "      <td>6</td>\n",
       "      <td>0.01</td>\n",
       "    </tr>\n",
       "    <tr>\n",
       "      <th>PW_SOURCE_YEAR</th>\n",
       "      <td>Categorical</td>\n",
       "      <td>21</td>\n",
       "      <td>0.01</td>\n",
       "    </tr>\n",
       "    <tr>\n",
       "      <th>PW_SOURCE_OTHER</th>\n",
       "      <td>Categorical</td>\n",
       "      <td>3084</td>\n",
       "      <td>1.02</td>\n",
       "    </tr>\n",
       "    <tr>\n",
       "      <th>WAGE_RATE_OF_PAY_FROM</th>\n",
       "      <td>Numerical</td>\n",
       "      <td>52507</td>\n",
       "      <td>0</td>\n",
       "    </tr>\n",
       "    <tr>\n",
       "      <th>WAGE_RATE_OF_PAY_TO</th>\n",
       "      <td>Numerical</td>\n",
       "      <td>15065</td>\n",
       "      <td>0</td>\n",
       "    </tr>\n",
       "    <tr>\n",
       "      <th>WAGE_UNIT_OF_PAY</th>\n",
       "      <td>Categorical</td>\n",
       "      <td>6</td>\n",
       "      <td>0</td>\n",
       "    </tr>\n",
       "    <tr>\n",
       "      <th>H1B_DEPENDENT</th>\n",
       "      <td>Date</td>\n",
       "      <td>3</td>\n",
       "      <td>2.2</td>\n",
       "    </tr>\n",
       "    <tr>\n",
       "      <th>WILLFUL_VIOLATOR</th>\n",
       "      <td>Categorical</td>\n",
       "      <td>3</td>\n",
       "      <td>2.2</td>\n",
       "    </tr>\n",
       "    <tr>\n",
       "      <th>SUPPORT_H1B</th>\n",
       "      <td>Categorical</td>\n",
       "      <td>3</td>\n",
       "      <td>61.5</td>\n",
       "    </tr>\n",
       "    <tr>\n",
       "      <th>LABOR_CON_AGREE</th>\n",
       "      <td>Categorical</td>\n",
       "      <td>3</td>\n",
       "      <td>60.78</td>\n",
       "    </tr>\n",
       "    <tr>\n",
       "      <th>PUBLIC_DISCLOSURE_LOCATION</th>\n",
       "      <td>Categorical</td>\n",
       "      <td>1</td>\n",
       "      <td>100</td>\n",
       "    </tr>\n",
       "    <tr>\n",
       "      <th>WORKSITE_CITY</th>\n",
       "      <td>Categorical</td>\n",
       "      <td>7964</td>\n",
       "      <td>0</td>\n",
       "    </tr>\n",
       "    <tr>\n",
       "      <th>WORKSITE_COUNTY</th>\n",
       "      <td>Categorical</td>\n",
       "      <td>3692</td>\n",
       "      <td>0.19</td>\n",
       "    </tr>\n",
       "    <tr>\n",
       "      <th>WORKSITE_STATE</th>\n",
       "      <td>Categorical</td>\n",
       "      <td>58</td>\n",
       "      <td>0</td>\n",
       "    </tr>\n",
       "    <tr>\n",
       "      <th>WORKSITE_POSTAL_CODE</th>\n",
       "      <td>Categorical</td>\n",
       "      <td>15146</td>\n",
       "      <td>0</td>\n",
       "    </tr>\n",
       "    <tr>\n",
       "      <th>ORIGINAL_CERT_DATE</th>\n",
       "      <td>Date</td>\n",
       "      <td>1041</td>\n",
       "      <td>92.04</td>\n",
       "    </tr>\n",
       "  </tbody>\n",
       "</table>\n",
       "</div>"
      ],
      "text/plain": [
       "                            Feature type Number of unique values % Null counts\n",
       "CASE_NUMBER                    Numerical                  624650             0\n",
       "CASE_STATUS                  Categorical                       4             0\n",
       "CASE_SUBMITTED                      Date                    1323             0\n",
       "DECISION_DATE                       Date                     358             0\n",
       "VISA_CLASS                   Categorical                       4             0\n",
       "EMPLOYMENT_START_DATE               Date                    1599             0\n",
       "EMPLOYMENT_END_DATE                 Date                    1646             0\n",
       "EMPLOYER_NAME                Categorical                   71171          0.01\n",
       "EMPLOYER_BUSINESS_DBA        Categorical                    9442         93.07\n",
       "EMPLOYER_ADDRESS             Categorical                   64379             0\n",
       "EMPLOYER_CITY                Categorical                    5124             0\n",
       "EMPLOYER_STATE               Categorical                      58             0\n",
       "EMPLOYER_POSTAL_CODE         Categorical                   10963             0\n",
       "EMPLOYER_COUNTRY             Categorical                       6         15.45\n",
       "EMPLOYER_PROVINCE            Categorical                     314         99.02\n",
       "EMPLOYER_PHONE               Categorical                   64038         15.45\n",
       "EMPLOYER_PHONE_EXT           Categorical                    1060         95.54\n",
       "AGENT_REPRESENTING_EMPLOYER  Categorical                       3         15.45\n",
       "AGENT_ATTORNEY_NAME          Categorical                    6621             0\n",
       "AGENT_ATTORNEY_CITY          Categorical                    1082         43.75\n",
       "AGENT_ATTORNEY_STATE         Categorical                      56         46.21\n",
       "JOB_TITLE                    Categorical                   93013             0\n",
       "SOC_CODE                     Categorical                     737             0\n",
       "SOC_NAME                     Categorical                     868             0\n",
       "NAICS_CODE                   Categorical                    2082             0\n",
       "TOTAL_WORKERS                  Numerical                      55             0\n",
       "NEW_EMPLOYMENT               Categorical                      50             0\n",
       "CONTINUED_EMPLOYMENT         Categorical                      25             0\n",
       "CHANGE_PREVIOUS_EMPLOYMENT   Categorical                      19             0\n",
       "NEW_CONCURRENT_EMPLOYMENT    Categorical                      10             0\n",
       "CHANGE_EMPLOYER              Categorical                      23             0\n",
       "AMENDED_PETITION             Categorical                      20             0\n",
       "FULL_TIME_POSITION           Categorical                       3             0\n",
       "PREVAILING_WAGE                Numerical                   25133             0\n",
       "PW_UNIT_OF_PAY               Categorical                       6          0.01\n",
       "PW_WAGE_LEVEL                Categorical                       5         19.81\n",
       "PW_SOURCE                    Categorical                       6          0.01\n",
       "PW_SOURCE_YEAR               Categorical                      21          0.01\n",
       "PW_SOURCE_OTHER              Categorical                    3084          1.02\n",
       "WAGE_RATE_OF_PAY_FROM          Numerical                   52507             0\n",
       "WAGE_RATE_OF_PAY_TO            Numerical                   15065             0\n",
       "WAGE_UNIT_OF_PAY             Categorical                       6             0\n",
       "H1B_DEPENDENT                       Date                       3           2.2\n",
       "WILLFUL_VIOLATOR             Categorical                       3           2.2\n",
       "SUPPORT_H1B                  Categorical                       3          61.5\n",
       "LABOR_CON_AGREE              Categorical                       3         60.78\n",
       "PUBLIC_DISCLOSURE_LOCATION   Categorical                       1           100\n",
       "WORKSITE_CITY                Categorical                    7964             0\n",
       "WORKSITE_COUNTY              Categorical                    3692          0.19\n",
       "WORKSITE_STATE               Categorical                      58             0\n",
       "WORKSITE_POSTAL_CODE         Categorical                   15146             0\n",
       "ORIGINAL_CERT_DATE                  Date                    1041         92.04"
      ]
     },
     "execution_count": 15,
     "metadata": {},
     "output_type": "execute_result"
    }
   ],
   "source": [
    "#expand resultset to view full content\n",
    "Input_features"
   ]
  },
  {
   "cell_type": "markdown",
   "metadata": {},
   "source": [
    "**Observation - ** After studying the above table, it is clear that features with high % of nulls (eg. EMPLOYER_PROVINCE) and Categorical features with high cardinality or redundancy (example EMPLOYER_POSTAL_CODE) can be excluded from the training dataset as they do not have decisive information for our classification model. Keeping them will add in unnecessary noise to the training dataset.\n",
    "\n",
    "**Preprocessing action - ** Features have missing values that need to be handled. \n",
    "\n",
    "**The below list of features can be removed from the training dataset -**\n",
    "\n",
    "CASE_NUMBER,EMPLOYER_BUSINESS_DBA,EMPLOYER_ADDRESS,EMPLOYER_CITY,EMPLOYER_COUNTRY,EMPLOYER_PROVINCE,EMPLOYER_PHONE, EMPLOYER_PHONE_EXT,AGENT_REPRESENTING_EMPLOYER,AGENT_ATTORNEY_NAME,AGENT_ATTORNEY_CITY,AGENT_ATTORNEY_STATE,JOB_TITLE, PW_SOURCE_OTHER,WAGE_RATE_OF_PAY_TO,SUPPORT_H1B,LABOR_CON_AGREE,PUBLIC_DISCLOSURE_LOCATION,WORKSITE_CITY,WORKSITE_COUNTY, ORIGINAL_CERT_DATE"
   ]
  },
  {
   "cell_type": "markdown",
   "metadata": {},
   "source": [
    "### Data Preprocessing"
   ]
  },
  {
   "cell_type": "markdown",
   "metadata": {},
   "source": [
    "Based on observations from EDA, we need to perform some data massaging before it can be used for training a ML model. To make the preprocessing steps reusable and isolated to prevent training data leakage, we will implement a data preprocessing pipeline.\n",
    "The high level flow chart is as shown in the below diagram"
   ]
  },
  {
   "attachments": {
    "image.png": {
     "image/png": "[encoded data removed]"
    }
   },
   "cell_type": "markdown",
   "metadata": {},
   "source": [
    "![image.png](attachment:image.png)"
   ]
  },
  {
   "cell_type": "markdown",
   "metadata": {},
   "source": [
    "#### Step 1: Feature Engineering\n",
    "In this step, we enhance the current feature set by adding in some derived features that may provide the ML algorithm additional dimensions of freedom and improve its classification accuracy.\n",
    "We will derive below 3 new features from the existing training set -\n",
    "\n",
    "**New feature 1** - Indicator to check if state of employment and state of employer are same?\n",
    "\n",
    "**New feature 2** - Difference in case submitted and decision date in days, \n",
    "\n",
    "**New feature 3** - Duration of employment (difference between employment start and end dates) in days\n",
    "\n",
    "**Recreate Target field** - We will also convert the target class from a multiclass feature to a binary feature with values = {CERTIFIED,NOT CERTIFIED}"
   ]
  },
  {
   "cell_type": "code",
   "execution_count": 16,
   "metadata": {
    "ExecuteTime": {
     "end_time": "2018-04-26T03:04:16.208290Z",
     "start_time": "2018-04-26T03:04:16.127044Z"
    },
    "collapsed": true
   },
   "outputs": [],
   "source": [
    "from sklearn.base import BaseEstimator, TransformerMixin\n",
    "from sklearn.pipeline import Pipeline\n",
    "from sklearn.preprocessing import MinMaxScaler"
   ]
  },
  {
   "cell_type": "code",
   "execution_count": 17,
   "metadata": {
    "ExecuteTime": {
     "end_time": "2018-04-26T03:04:16.223299Z",
     "start_time": "2018-04-26T03:04:16.210267Z"
    },
    "collapsed": true
   },
   "outputs": [],
   "source": [
    "#Feature Engineering class definition\n",
    "class FeatureEngg(BaseEstimator, TransformerMixin):\n",
    "    def __init__(self):\n",
    "        pass\n",
    "    def fit(self, df, y=None):\n",
    "        return self\n",
    "    def transform(self,df,y=None):\n",
    "        #employment duration\n",
    "        df['EMPLOYMENT_DURATION']=[d.days for d in df['EMPLOYMENT_END_DATE'] - df['EMPLOYMENT_START_DATE']]\n",
    "        #Decision duration\n",
    "        df['DECISION_DURATION']=[d.days for d in df['DECISION_DATE'] - df['CASE_SUBMITTED']]\n",
    "        #same employer and worksite state\n",
    "        df['SAME_STATE']=[1 if df.EMPLOYER_STATE[i]==df.WORKSITE_STATE[i] else 0 for i in range(df.shape[0])]\n",
    "        #CASE_STATUS        \n",
    "        df['TARGET_CLASS']=[0 if df.CASE_STATUS[i]=='CERTIFIED' else 1 for i in range(df.shape[0])]\n",
    "        return df"
   ]
  },
  {
   "cell_type": "markdown",
   "metadata": {},
   "source": [
    "#### Step 2: Fill Missing values\n",
    "As observed in EDA, many fields have missing values that need to be handled. As the feature set is both categorical and numerical, we will complete the feature by ‘front filling’ using the previous valid value of that feature. This is done mainly for categorical variables and dates. Numeric variables do not have any missing values."
   ]
  },
  {
   "cell_type": "code",
   "execution_count": 18,
   "metadata": {
    "ExecuteTime": {
     "end_time": "2018-04-26T03:04:16.244355Z",
     "start_time": "2018-04-26T03:04:16.226310Z"
    },
    "collapsed": true
   },
   "outputs": [],
   "source": [
    "class FillMissing(BaseEstimator, TransformerMixin):\n",
    "    def __init__(self):\n",
    "        pass\n",
    "    def fit(self, df, y=None):\n",
    "        return self\n",
    "    def transform(self,df,y=None):\n",
    "        df=df.fillna(method='pad')\n",
    "        return df"
   ]
  },
  {
   "cell_type": "markdown",
   "metadata": {},
   "source": [
    "#### Step 3: Filtering\n",
    "This step handles the filtering steps to remove data that is out of scope. We will be removing the entire training record for out of scope data."
   ]
  },
  {
   "cell_type": "code",
   "execution_count": 19,
   "metadata": {
    "ExecuteTime": {
     "end_time": "2018-04-26T03:04:16.262405Z",
     "start_time": "2018-04-26T03:04:16.247367Z"
    },
    "code_folding": [],
    "collapsed": true
   },
   "outputs": [],
   "source": [
    "class DataFilter(BaseEstimator, TransformerMixin):\n",
    "    def __init__(self):\n",
    "        pass\n",
    "    def fit(self, df, y=None):\n",
    "        return self\n",
    "    def transform(self,df,y=None):\n",
    "        df = df[df.VISA_CLASS == 'H-1B']\n",
    "        df = df[df.EMPLOYER_COUNTRY == 'UNITED STATES OF AMERICA']\n",
    "        \n",
    "        return df"
   ]
  },
  {
   "cell_type": "markdown",
   "metadata": {},
   "source": [
    "#### Step 4: Feature Selection\n",
    "This step will remove features identified as redundant or incomplete during EDA. \n",
    "\n",
    "**Note** There will be one more feature selection step during the training phase of ML model where we will use L1 regularization to select only significant features."
   ]
  },
  {
   "cell_type": "code",
   "execution_count": 20,
   "metadata": {
    "ExecuteTime": {
     "end_time": "2018-04-26T03:04:16.277446Z",
     "start_time": "2018-04-26T03:04:16.265415Z"
    },
    "code_folding": [],
    "collapsed": true
   },
   "outputs": [],
   "source": [
    "#define columns list to drop for pipeline \n",
    "cat_columns=['CASE_NUMBER','EMPLOYER_BUSINESS_DBA','EMPLOYER_ADDRESS','EMPLOYER_CITY','EMPLOYER_COUNTRY','EMPLOYER_PROVINCE',\n",
    "         'EMPLOYER_PHONE', 'EMPLOYER_PHONE_EXT','AGENT_REPRESENTING_EMPLOYER','AGENT_ATTORNEY_NAME','AGENT_ATTORNEY_CITY',\n",
    "         'AGENT_ATTORNEY_STATE','JOB_TITLE', 'PW_SOURCE_OTHER','WAGE_RATE_OF_PAY_TO','SUPPORT_H1B','LABOR_CON_AGREE',\n",
    "         'PUBLIC_DISCLOSURE_LOCATION','WORKSITE_CITY','WORKSITE_COUNTY','ORIGINAL_CERT_DATE','VISA_CLASS','EMPLOYER_POSTAL_CODE',\n",
    "         'WORKSITE_POSTAL_CODE', 'SOC_NAME','NAICS_CODE','EMPLOYER_NAME','CASE_STATUS']"
   ]
  },
  {
   "cell_type": "code",
   "execution_count": 21,
   "metadata": {
    "ExecuteTime": {
     "end_time": "2018-04-26T03:04:16.295493Z",
     "start_time": "2018-04-26T03:04:16.281454Z"
    },
    "code_folding": [],
    "collapsed": true
   },
   "outputs": [],
   "source": [
    "class ColumnDrop(BaseEstimator, TransformerMixin):\n",
    "    def __init__(self,columns):\n",
    "        self.columns=columns\n",
    "    def fit(self, df, y=None):\n",
    "        return self\n",
    "    def transform(self,df,y=None):\n",
    "        for col in self.columns:\n",
    "            if col in df.columns:\n",
    "                del df[col]\n",
    "        return df"
   ]
  },
  {
   "cell_type": "markdown",
   "metadata": {},
   "source": [
    "#### Step 5: Numerical Encoding\n",
    "Dates are ordinal features so to encode them to numeric features, they have been converted to the number of days from the minimum date of each feature. This will also standardize all dates to a single scale."
   ]
  },
  {
   "cell_type": "code",
   "execution_count": 22,
   "metadata": {
    "ExecuteTime": {
     "end_time": "2018-04-26T03:04:16.320557Z",
     "start_time": "2018-04-26T03:04:16.298501Z"
    },
    "collapsed": true
   },
   "outputs": [],
   "source": [
    "date_cols=['CASE_SUBMITTED','DECISION_DATE','EMPLOYMENT_START_DATE','EMPLOYMENT_END_DATE']"
   ]
  },
  {
   "cell_type": "code",
   "execution_count": 23,
   "metadata": {
    "ExecuteTime": {
     "end_time": "2018-04-26T03:04:16.336601Z",
     "start_time": "2018-04-26T03:04:16.322563Z"
    },
    "collapsed": true
   },
   "outputs": [],
   "source": [
    "class Num_Encoding(BaseEstimator, TransformerMixin):\n",
    "    def __init__(self,date_col):\n",
    "        self.date_col=date_col\n",
    "    def fit(self, df, y=None):\n",
    "        return self\n",
    "    def transform(self,df,y=None):\n",
    "        for col in date_cols:\n",
    "            if col in df.columns:\n",
    "                min_date=np.min(df[col])\n",
    "                df[col]=[(dte-min_date).days for dte in df[col]]\n",
    "        #encode SOC code\n",
    "        df.SOC_CODE=[str.replace(code,'-','').split('.')[0] for code in df.SOC_CODE]  \n",
    "        return df"
   ]
  },
  {
   "cell_type": "markdown",
   "metadata": {},
   "source": [
    "#### Step 6: Categorical Encoding\n",
    "We have implemented label encoding for translating categorical features to corresponding numerical form. "
   ]
  },
  {
   "cell_type": "code",
   "execution_count": 24,
   "metadata": {
    "ExecuteTime": {
     "end_time": "2018-04-26T03:04:16.366681Z",
     "start_time": "2018-04-26T03:04:16.338607Z"
    },
    "collapsed": true
   },
   "outputs": [],
   "source": [
    "class Cat_Encoding(BaseEstimator, TransformerMixin):\n",
    "    def __init__(self):\n",
    "        pass\n",
    "    def fit(self, df, y=None):\n",
    "        return self\n",
    "    def transform(self,df,y=None):\n",
    "        #state_list=np.sort(pd.unique(df['EMPLOYER_STATE']))\n",
    "        #replace_state=np.arange(pd.unique(df['EMPLOYER_STATE']).size)\n",
    "        col_encode_state=['EMPLOYER_STATE','WORKSITE_STATE']\n",
    "        for col in col_encode_state:\n",
    "            if col in df.columns:\n",
    "                state_list=np.sort(pd.unique(df[col]))\n",
    "                replace_state=np.arange(pd.unique(df[col]).size)\n",
    "                df[col].replace(to_replace=state_list,value=replace_state,inplace=True)\n",
    "\n",
    "        wage_list=np.sort(pd.unique(df['WAGE_UNIT_OF_PAY']))\n",
    "        replace_wage=np.arange(pd.unique(df['WAGE_UNIT_OF_PAY']).size)\n",
    "        col_encode_pay=[ 'WAGE_UNIT_OF_PAY','PW_UNIT_OF_PAY']\n",
    "        for col in col_encode_pay:\n",
    "            if col in df.columns:\n",
    "                df[col].replace(to_replace=wage_list,value=replace_wage,inplace=True)\n",
    "    \n",
    "        col_encode_other=['H-1B_DEPENDENT','H1B_DEPENDENT','SOC_CODE','PW_WAGE_LEVEL','WILLFUL_VIOLATOR','FULL_TIME_POSITION','PW_SOURCE']\n",
    "        for col in col_encode_other:\n",
    "            if col in df.columns:\n",
    "                df[col].replace(to_replace=np.sort(pd.unique(df[col])),value=np.arange(pd.unique(df[col]).size),inplace=True)  \n",
    "        \n",
    "        return df"
   ]
  },
  {
   "cell_type": "markdown",
   "metadata": {},
   "source": [
    "**We bring all these preprocessing classes together into a preprocessing pipeline that can be reused for training and testing datasets**"
   ]
  },
  {
   "cell_type": "code",
   "execution_count": 25,
   "metadata": {
    "ExecuteTime": {
     "end_time": "2018-04-26T03:04:16.389742Z",
     "start_time": "2018-04-26T03:04:16.368687Z"
    },
    "collapsed": true
   },
   "outputs": [],
   "source": [
    "#create a pipeline with Feature engineering and preprocessing\n",
    "FE_preprocess_pipeline= Pipeline([\n",
    "        ('FE', FeatureEngg()),\n",
    "        ('FM', FillMissing()),\n",
    "        ('DF', DataFilter()),\n",
    "        ('CD', ColumnDrop(cat_columns)),  \n",
    "        ('NE', Num_Encoding(date_cols)),\n",
    "        ('CE', Cat_Encoding()),\n",
    "        ('SC',MinMaxScaler())\n",
    "    ])"
   ]
  },
  {
   "cell_type": "markdown",
   "metadata": {},
   "source": [
    "Before proceeding to the next step, we will **execute the data preprocessing pipeline on the training dataset** so it is ready to be consumed by the ML models."
   ]
  },
  {
   "cell_type": "code",
   "execution_count": 26,
   "metadata": {
    "ExecuteTime": {
     "end_time": "2018-04-26T03:06:30.213693Z",
     "start_time": "2018-04-26T03:04:16.391750Z"
    }
   },
   "outputs": [
    {
     "name": "stdout",
     "output_type": "stream",
     "text": [
      "Wall time: 2min 13s\n"
     ]
    }
   ],
   "source": [
    "%%time\n",
    "df_copy=FE_preprocess_pipeline.fit_transform(df_copy)"
   ]
  },
  {
   "cell_type": "markdown",
   "metadata": {},
   "source": [
    "The target column is still part of our training set and needs to be removed before passing it to the Classifier. We seperate the target class from the input features."
   ]
  },
  {
   "cell_type": "code",
   "execution_count": 27,
   "metadata": {
    "ExecuteTime": {
     "end_time": "2018-04-26T03:06:30.221713Z",
     "start_time": "2018-04-26T03:06:30.216700Z"
    },
    "collapsed": true
   },
   "outputs": [],
   "source": [
    "Target_labels=df_copy[:,27]\n",
    "df_copy=df_copy[:,:27]"
   ]
  },
  {
   "cell_type": "markdown",
   "metadata": {},
   "source": [
    "### Model Selection"
   ]
  },
  {
   "cell_type": "markdown",
   "metadata": {},
   "source": [
    "#### ML algorithms evaluated\n",
    "This is a **binary classification problem** wherein we are trying to predict the output into one of two target class based on 27 input variables. As we already have target class values for training data, we will be applying **supervised learning** algorithms to solve this problem. There are multiple Machine Learning algorithms that can be used for this task and we will be comparing the below algorithms to identify the best one for this problem.\n",
    "\n",
    "        A.\tDecision Tree classifier\n",
    "        B.\tLogistic regression\n",
    "        C.\tNaïve Bayes classifier\n",
    "        D.\tRandom Forests\n",
    "        E.\tLinear Discriminant Analysis\n",
    "        \n"
   ]
  },
  {
   "cell_type": "markdown",
   "metadata": {},
   "source": [
    "**Discussion on supervised classifiers not considered for this problem -**\n",
    "While there are many more good and advanced supervised classification algorithms that could have been considered for this problem, it is important to discuss on why some of the more common ones were not considered in scope of evaluation.\n",
    "\n",
    "**1. K-NN** - KNN is one of the simplest classification algorithm. However, it has a major drawback that applies our problem. KNN is a non-parametric ML algorithm, and given the large size of training dataset the time taken to validate the model would have been enormous. For this reason it was not considered in scope of evaluation.\n",
    "\n",
    "**2. SVM ** - SVM is a powerful classifier. It was considered in scope of evaluation initially however the model had a high training time and it was not feasible to include it further due to this.\n",
    "\n",
    "**3. MLP ** - MLP is a powerful and versatile classifier. Similar to SVM, it was considered in scope of evaluation initially however the model had a high training time and it was not feasible to include it further due to this."
   ]
  },
  {
   "cell_type": "markdown",
   "metadata": {},
   "source": [
    "#### Performance metrics \n",
    "\n",
    "There is a wide variety of performance metrics available for evaluating classification models and not all will be equally effective in evaluating model for our problem. When we look at our classification problem from performance evaluation perspective, **it is important to consider the heavy bias in the training dataset in favor of one class. So it is extremely important that our model is able to correctly classify the minority class.** In metrics terms, we need the recall for the minority class as high as possible.\n",
    "\n",
    "For this reason, we will use **F1-score as our performance metric** while evaluating different classifiers.\n",
    "Accuracy is not helpful in our case because of the bias.\n",
    "\n",
    "We will also perform a **statistical significance test** to identify if any of the models are significantly different that others. Our intent is to choose the simplest and most efficient model for this classification task.\n",
    "\n",
    "We will be **using cross fold validation method** to iteratively train each model with the **entire** training dataset and then compare accuracy for them.\n",
    "\n",
    "In addition to F1-score, we will also be **plotting confusion matrix and classification report for test dataset**. It will provide more insights how well the model fits the data."
   ]
  },
  {
   "cell_type": "code",
   "execution_count": 28,
   "metadata": {
    "ExecuteTime": {
     "end_time": "2018-04-26T03:06:30.387154Z",
     "start_time": "2018-04-26T03:06:30.224721Z"
    },
    "collapsed": true
   },
   "outputs": [],
   "source": [
    "#import ML models\n",
    "from sklearn.model_selection import KFold\n",
    "from sklearn.model_selection import cross_val_score\n",
    "from sklearn.linear_model import LogisticRegression\n",
    "from sklearn.tree import DecisionTreeClassifier\n",
    "from sklearn.discriminant_analysis import LinearDiscriminantAnalysis\n",
    "from sklearn.naive_bayes import GaussianNB\n",
    "from sklearn.ensemble import RandomForestClassifier\n",
    "import warnings\n",
    "warnings.filterwarnings(action='ignore')"
   ]
  },
  {
   "cell_type": "code",
   "execution_count": 29,
   "metadata": {
    "ExecuteTime": {
     "end_time": "2018-04-26T03:18:22.208603Z",
     "start_time": "2018-04-26T03:06:30.390160Z"
    }
   },
   "outputs": [
    {
     "name": "stdout",
     "output_type": "stream",
     "text": [
      "NB: 0.790341 (0.108881)\n",
      "LR: 0.588853 (0.239220)\n",
      "LDA: 0.464587 (0.174834)\n",
      "CART: 0.585369 (0.180959)\n",
      "RFC: 0.750475 (0.231982)\n",
      "Wall time: 11min 51s\n"
     ]
    }
   ],
   "source": [
    "%%time\n",
    "models = []\n",
    "models.append(('NB', GaussianNB()))\n",
    "models.append(('LR', LogisticRegression()))\n",
    "models.append(('LDA', LinearDiscriminantAnalysis()))\n",
    "models.append(('CART', DecisionTreeClassifier()))\n",
    "models.append(('RFC', RandomForestClassifier()))\n",
    "# evaluate each model in turn\n",
    "results = []\n",
    "names = []\n",
    "scoring = 'f1'\n",
    "for name, model in models:\n",
    "    kfold = KFold(n_splits=15, random_state=42)\n",
    "    cv_results = cross_val_score(model, df_copy, Target_labels, cv=kfold, scoring=scoring)\n",
    "    results.append(cv_results)\n",
    "    names.append(name)\n",
    "    msg = \"%s: %f (%f)\" % (name, cv_results.mean(), cv_results.std())\n",
    "    print(msg)"
   ]
  },
  {
   "cell_type": "markdown",
   "metadata": {},
   "source": [
    "**Lets plot the F1 score for each model as a box plot so it is easy to visualize**"
   ]
  },
  {
   "cell_type": "code",
   "execution_count": 30,
   "metadata": {
    "ExecuteTime": {
     "end_time": "2018-04-26T03:18:22.495366Z",
     "start_time": "2018-04-26T03:18:22.211611Z"
    }
   },
   "outputs": [
    {
     "data": {
      "image/png": "[encoded data removed]",
      "text/plain": [
       "<matplotlib.figure.Figure at 0x1a19c170208>"
      ]
     },
     "metadata": {},
     "output_type": "display_data"
    }
   ],
   "source": [
    "fig = plt.figure()\n",
    "fig.suptitle('Classification Algorithm Comparison')\n",
    "ax = fig.add_subplot(111)\n",
    "plt.boxplot(results)\n",
    "ax.set_xticklabels(names)\n",
    "plt.grid()\n",
    "plt.show()"
   ]
  },
  {
   "cell_type": "markdown",
   "metadata": {},
   "source": [
    "Naive Bayes and LDA have comparable F1-score scores. \n",
    "\n",
    "Let us **perform t-statistic test on RFC, LDA, LR and Naive Bayes** to see if they are statistically similar. In that case, **we will prefer to use Gaussian Naive Bayes as it is a simple algorithm compared to the other two and does not need any hyperparameter tuning**.\n",
    "\n",
    "We know that **Logistic regression classifier with L1 regularization** can be used effectively for **feature selection**. Instead of using LR model as a classifier, lets use it in the pipeline for feature selection."
   ]
  },
  {
   "cell_type": "markdown",
   "metadata": {},
   "source": [
    "#### Statistical Significance test"
   ]
  },
  {
   "cell_type": "code",
   "execution_count": 31,
   "metadata": {
    "ExecuteTime": {
     "end_time": "2018-04-26T03:18:22.545498Z",
     "start_time": "2018-04-26T03:18:22.499379Z"
    },
    "code_folding": []
   },
   "outputs": [
    {
     "data": {
      "text/html": [
       "<div>\n",
       "<style>\n",
       "    .dataframe thead tr:only-child th {\n",
       "        text-align: right;\n",
       "    }\n",
       "\n",
       "    .dataframe thead th {\n",
       "        text-align: left;\n",
       "    }\n",
       "\n",
       "    .dataframe tbody tr th {\n",
       "        vertical-align: top;\n",
       "    }\n",
       "</style>\n",
       "<table border=\"1\" class=\"dataframe\">\n",
       "  <thead>\n",
       "    <tr style=\"text-align: right;\">\n",
       "      <th></th>\n",
       "      <th>ExpID</th>\n",
       "      <th>Model</th>\n",
       "      <th>Accuracy_Train</th>\n",
       "      <th>t-statistic</th>\n",
       "      <th>p-value</th>\n",
       "    </tr>\n",
       "  </thead>\n",
       "  <tbody>\n",
       "    <tr>\n",
       "      <th>0</th>\n",
       "      <td>1</td>\n",
       "      <td>NB</td>\n",
       "      <td>0.790341</td>\n",
       "      <td>0</td>\n",
       "      <td>0</td>\n",
       "    </tr>\n",
       "    <tr>\n",
       "      <th>1</th>\n",
       "      <td>2</td>\n",
       "      <td>LR</td>\n",
       "      <td>0.588853</td>\n",
       "      <td>5.13583</td>\n",
       "      <td>0.000151383</td>\n",
       "    </tr>\n",
       "    <tr>\n",
       "      <th>2</th>\n",
       "      <td>3</td>\n",
       "      <td>LDA</td>\n",
       "      <td>0.464587</td>\n",
       "      <td>11.4299</td>\n",
       "      <td>1.7426e-08</td>\n",
       "    </tr>\n",
       "    <tr>\n",
       "      <th>3</th>\n",
       "      <td>4</td>\n",
       "      <td>CART</td>\n",
       "      <td>0.585369</td>\n",
       "      <td>4.77787</td>\n",
       "      <td>0.00029457</td>\n",
       "    </tr>\n",
       "    <tr>\n",
       "      <th>4</th>\n",
       "      <td>5</td>\n",
       "      <td>RFC</td>\n",
       "      <td>0.750475</td>\n",
       "      <td>0.659599</td>\n",
       "      <td>0.520215</td>\n",
       "    </tr>\n",
       "  </tbody>\n",
       "</table>\n",
       "</div>"
      ],
      "text/plain": [
       "  ExpID Model  Accuracy_Train t-statistic      p-value\n",
       "0     1    NB        0.790341           0            0\n",
       "1     2    LR        0.588853     5.13583  0.000151383\n",
       "2     3   LDA        0.464587     11.4299   1.7426e-08\n",
       "3     4  CART        0.585369     4.77787   0.00029457\n",
       "4     5   RFC        0.750475    0.659599     0.520215"
      ]
     },
     "execution_count": 31,
     "metadata": {},
     "output_type": "execute_result"
    }
   ],
   "source": [
    "from scipy import stats\n",
    "exp_results = pd.DataFrame(columns=[\"ExpID\",\"Model\",\"Accuracy_Train\",\"t-statistic\",\"p-value\"])\n",
    "i=0\n",
    "for idx in range(5):\n",
    "    if i==0:\n",
    "        exp_results.loc[len(exp_results)]=[len(exp_results)+1,models[idx][0],np.mean(results[0]),0,0]\n",
    "    else:\n",
    "        exp_results.loc[len(exp_results)]=[len(exp_results)+1,models[idx][0],np.mean(results[idx]),stats.ttest_rel(results[0], results[idx]).statistic,stats.ttest_rel(results[0], results[idx]).pvalue]\n",
    "    i+=1\n",
    "exp_results"
   ]
  },
  {
   "cell_type": "markdown",
   "metadata": {},
   "source": [
    "**Observations from t-Statistic test** -\n",
    "The p-value for RFC is 0.3 which is much higher than the threshold of 0.05 which mean there is no significant difference between RFC and NB models.\n",
    "\n",
    "We have decided to use LR for our feature selection step. \n",
    "\n",
    "Though LDA is significantly different that NB, it is more complex compared to NB and also has a lower F1-score.\n",
    "**Lets finalize on Naive Bayes as our model of choice** for now and see how it performs on the test dataset. \n",
    "\n",
    "Our second choice would be Logistic Regression because we will have a model trained already for feature selection. It is also significantly different that NB.\n"
   ]
  },
  {
   "cell_type": "markdown",
   "metadata": {},
   "source": [
    "### Feature selection using Logistic Regression Classifier with L1 regularization\n",
    "Lets train a logistic regression classifier with L1 regularization on the entire training dataset. This model will act as our feature selector and can be used as the first step to train our selected model with only significant features from the training dataset.\n"
   ]
  },
  {
   "cell_type": "code",
   "execution_count": 32,
   "metadata": {
    "ExecuteTime": {
     "end_time": "2018-04-26T03:18:22.558532Z",
     "start_time": "2018-04-26T03:18:22.547504Z"
    },
    "collapsed": true
   },
   "outputs": [],
   "source": [
    "Feature_selector = LogisticRegression(C=10, n_jobs=-1, penalty='l1', random_state=42)"
   ]
  },
  {
   "cell_type": "code",
   "execution_count": 33,
   "metadata": {
    "ExecuteTime": {
     "end_time": "2018-04-26T03:20:18.301160Z",
     "start_time": "2018-04-26T03:18:22.560538Z"
    },
    "scrolled": true
   },
   "outputs": [
    {
     "name": "stdout",
     "output_type": "stream",
     "text": [
      "Wall time: 1min 55s\n"
     ]
    },
    {
     "data": {
      "text/plain": [
       "LogisticRegression(C=10, class_weight=None, dual=False, fit_intercept=True,\n",
       "          intercept_scaling=1, max_iter=100, multi_class='ovr', n_jobs=-1,\n",
       "          penalty='l1', random_state=42, solver='liblinear', tol=0.0001,\n",
       "          verbose=0, warm_start=False)"
      ]
     },
     "execution_count": 33,
     "metadata": {},
     "output_type": "execute_result"
    }
   ],
   "source": [
    "%%time\n",
    "Feature_selector.fit(df_copy,Target_labels)"
   ]
  },
  {
   "cell_type": "markdown",
   "metadata": {},
   "source": [
    "For ease of identifying significant features, lets get a list of features from the dataset. The pipeline converted the input dataframe to an array so we will need to generate the feature list from source."
   ]
  },
  {
   "cell_type": "code",
   "execution_count": 34,
   "metadata": {
    "ExecuteTime": {
     "end_time": "2018-04-26T03:20:18.311184Z",
     "start_time": "2018-04-26T03:20:18.304167Z"
    },
    "collapsed": true
   },
   "outputs": [],
   "source": [
    "df_plot=df.columns.values\n",
    "df_plot=list(filter(lambda x:x not in cat_columns,df_plot))\n",
    "df_plot=df_plot[:27]"
   ]
  },
  {
   "cell_type": "markdown",
   "metadata": {},
   "source": [
    "**Lets plot the coefficients of the Feature selection model so the important features in the training dataset can be easily visualized**"
   ]
  },
  {
   "cell_type": "code",
   "execution_count": 35,
   "metadata": {
    "ExecuteTime": {
     "end_time": "2018-04-26T03:20:18.727292Z",
     "start_time": "2018-04-26T03:20:18.314193Z"
    },
    "scrolled": false
   },
   "outputs": [
    {
     "data": {
      "image/png": "[encoded data removed]",
      "text/plain": [
       "<matplotlib.figure.Figure at 0x1a19c1705f8>"
      ]
     },
     "metadata": {},
     "output_type": "display_data"
    }
   ],
   "source": [
    "plt.figure(figsize=(12, 8))\n",
    "plt.bar(np.arange(Feature_selector.coef_.shape[1]), Feature_selector.coef_[0],color='green',width=0.5)\n",
    "plt.xticks(np.arange(Feature_selector.coef_.shape[1]), df_plot, rotation='vertical')\n",
    "plt.xlim([-1, Feature_selector.coef_.shape[1]])\n",
    "plt.title=\"Feature importance for LCA outcome classes\"\n",
    "plt.show()"
   ]
  },
  {
   "cell_type": "markdown",
   "metadata": {},
   "source": [
    "The plot clearly shows that only 21 features out of 27 have significant information in the training dataset. L1 regularization reduces the coefficients of unimportant features to 0. "
   ]
  },
  {
   "cell_type": "markdown",
   "metadata": {},
   "source": [
    "**Interesting Observation - ** \n",
    "The derived predictor variable Decision Duration is driving all the classification decisions between class 1 and 0. It is intuitive because according to the training data, applications that take longer period for OFLC to decide have not been Certified."
   ]
  },
  {
   "cell_type": "markdown",
   "metadata": {},
   "source": [
    "### ML Model selection and training\n",
    "Lets create a pipeline that combines the feature selection step and the selected ML model to train on the entire dataset.\n",
    "We will then use the **SelectModelFrom** class to reuse our trained Logistic Regression model as a feature selector in the pipeline along with the Gaussian Naive Bayes classifier to train only on the most important training features."
   ]
  },
  {
   "cell_type": "code",
   "execution_count": 36,
   "metadata": {
    "ExecuteTime": {
     "end_time": "2018-04-26T03:20:18.733307Z",
     "start_time": "2018-04-26T03:20:18.729297Z"
    },
    "collapsed": true
   },
   "outputs": [],
   "source": [
    "from sklearn.feature_selection import SelectFromModel"
   ]
  },
  {
   "cell_type": "code",
   "execution_count": 37,
   "metadata": {
    "ExecuteTime": {
     "end_time": "2018-04-26T03:20:18.755365Z",
     "start_time": "2018-04-26T03:20:18.736316Z"
    },
    "collapsed": true
   },
   "outputs": [],
   "source": [
    "clf = Pipeline([\n",
    "  ('feature_selection', SelectFromModel(Feature_selector)),\n",
    "  ('classification', GaussianNB())\n",
    "])"
   ]
  },
  {
   "cell_type": "code",
   "execution_count": 38,
   "metadata": {
    "ExecuteTime": {
     "end_time": "2018-04-26T03:22:16.530949Z",
     "start_time": "2018-04-26T03:20:18.758375Z"
    }
   },
   "outputs": [
    {
     "name": "stdout",
     "output_type": "stream",
     "text": [
      "Wall time: 1min 57s\n"
     ]
    },
    {
     "data": {
      "text/plain": [
       "Pipeline(steps=[('feature_selection', SelectFromModel(estimator=LogisticRegression(C=10, class_weight=None, dual=False, fit_intercept=True,\n",
       "          intercept_scaling=1, max_iter=100, multi_class='ovr', n_jobs=-1,\n",
       "          penalty='l1', random_state=42, solver='liblinear', tol=0.0001,\n",
       "          verbose=0, warm_start=False),\n",
       "        prefit=False, threshold=None)), ('classification', GaussianNB(priors=None))])"
      ]
     },
     "execution_count": 38,
     "metadata": {},
     "output_type": "execute_result"
    }
   ],
   "source": [
    "%%time\n",
    "clf.fit(df_copy, Target_labels)"
   ]
  },
  {
   "cell_type": "markdown",
   "metadata": {},
   "source": [
    "Lets predict the F1-score and accuracy of this classification pipeline on training dataset just to understand if there are any obvious problems."
   ]
  },
  {
   "cell_type": "code",
   "execution_count": 39,
   "metadata": {
    "ExecuteTime": {
     "end_time": "2018-04-26T03:22:17.285070Z",
     "start_time": "2018-04-26T03:22:16.533920Z"
    },
    "collapsed": true
   },
   "outputs": [],
   "source": [
    "y_pred_train=clf.predict(df_copy)"
   ]
  },
  {
   "cell_type": "code",
   "execution_count": 40,
   "metadata": {
    "ExecuteTime": {
     "end_time": "2018-04-26T03:22:17.538312Z",
     "start_time": "2018-04-26T03:22:17.285070Z"
    }
   },
   "outputs": [
    {
     "name": "stdout",
     "output_type": "stream",
     "text": [
      "F1_score Training dataset: 0.838682165211\n",
      "Accuracy Training dataset: 0.961569279018\n"
     ]
    }
   ],
   "source": [
    "from sklearn.metrics import accuracy_score\n",
    "from sklearn.metrics import f1_score\n",
    "print('F1_score Training dataset:',f1_score(Target_labels,y_pred_train))\n",
    "print('Accuracy Training dataset:',accuracy_score(Target_labels,y_pred_train))"
   ]
  },
  {
   "cell_type": "markdown",
   "metadata": {},
   "source": [
    "### Validate model on test data\n",
    "We had held out the test data set for validating the classifier. Let us see how our classifier fares when tested on the held out test data.\n",
    "\n",
    "We will pass the test data through the same preprocesing pipeline so it the classifier gets similar features as it was trained on."
   ]
  },
  {
   "cell_type": "code",
   "execution_count": 41,
   "metadata": {
    "ExecuteTime": {
     "end_time": "2018-04-26T03:22:36.668037Z",
     "start_time": "2018-04-26T03:22:17.542352Z"
    }
   },
   "outputs": [
    {
     "name": "stdout",
     "output_type": "stream",
     "text": [
      "Wall time: 19.1 s\n"
     ]
    }
   ],
   "source": [
    "%%time\n",
    "df_test=FE_preprocess_pipeline.transform(df_test)"
   ]
  },
  {
   "cell_type": "markdown",
   "metadata": {},
   "source": [
    "The target column is available in the test dataset as well so it needs to be removed."
   ]
  },
  {
   "cell_type": "code",
   "execution_count": 42,
   "metadata": {
    "ExecuteTime": {
     "end_time": "2018-04-26T03:22:36.675088Z",
     "start_time": "2018-04-26T03:22:36.671043Z"
    },
    "collapsed": true
   },
   "outputs": [],
   "source": [
    "Target_labels_test=df_test[:,27]\n",
    "df_test=df_test[:,:27]"
   ]
  },
  {
   "cell_type": "markdown",
   "metadata": {},
   "source": [
    "Now lets use our model to predict the output for the test data set and find the classification accuracy compared to the true output values"
   ]
  },
  {
   "cell_type": "code",
   "execution_count": 43,
   "metadata": {
    "ExecuteTime": {
     "end_time": "2018-04-26T03:22:36.824450Z",
     "start_time": "2018-04-26T03:22:36.678062Z"
    },
    "collapsed": true
   },
   "outputs": [],
   "source": [
    "y_pred_test=clf.predict(df_test)"
   ]
  },
  {
   "cell_type": "markdown",
   "metadata": {},
   "source": [
    "#### F1-Score and Accuracy"
   ]
  },
  {
   "cell_type": "code",
   "execution_count": 44,
   "metadata": {
    "ExecuteTime": {
     "end_time": "2018-04-26T03:22:36.865561Z",
     "start_time": "2018-04-26T03:22:36.827459Z"
    },
    "collapsed": true
   },
   "outputs": [],
   "source": [
    "f1_fs=f1_score(Target_labels_test,y_pred_test,average=None)\n",
    "acc_fs=accuracy_score(Target_labels_test,y_pred_test)"
   ]
  },
  {
   "cell_type": "code",
   "execution_count": 45,
   "metadata": {
    "ExecuteTime": {
     "end_time": "2018-04-26T03:22:36.876592Z",
     "start_time": "2018-04-26T03:22:36.869573Z"
    }
   },
   "outputs": [
    {
     "name": "stdout",
     "output_type": "stream",
     "text": [
      "F1_score Test dataset: [ 0.92749502  0.69237653]\n",
      "Accuracy Test dataset: 0.882648959951\n"
     ]
    }
   ],
   "source": [
    "print('F1_score Test dataset:',f1_fs)\n",
    "print('Accuracy Test dataset:',acc_fs)"
   ]
  },
  {
   "cell_type": "markdown",
   "metadata": {},
   "source": [
    "#### Confusion Matrix\n",
    "The confusion matrix provides us with the numbers for True Positives, True Negatives, False Positives and False Negatives. These numbers helps us understand in detail what is going on with our model."
   ]
  },
  {
   "cell_type": "code",
   "execution_count": 46,
   "metadata": {
    "ExecuteTime": {
     "end_time": "2018-04-26T03:22:36.985880Z",
     "start_time": "2018-04-26T03:22:36.880600Z"
    },
    "collapsed": true
   },
   "outputs": [],
   "source": [
    "from sklearn.metrics import confusion_matrix\n",
    "cm_test = confusion_matrix(Target_labels_test, y_pred_test)"
   ]
  },
  {
   "cell_type": "code",
   "execution_count": 47,
   "metadata": {
    "ExecuteTime": {
     "end_time": "2018-04-26T03:22:37.250584Z",
     "start_time": "2018-04-26T03:22:36.989891Z"
    }
   },
   "outputs": [
    {
     "data": {
      "image/png": "[encoded data removed]",
      "text/plain": [
       "<matplotlib.figure.Figure at 0x1a1db37a8d0>"
      ]
     },
     "metadata": {},
     "output_type": "display_data"
    }
   ],
   "source": [
    "g = sns.heatmap(cm_test, annot=True, cmap=\"Reds\")\n",
    "plt.xlabel(\"Predicted\", fontsize=14)\n",
    "plt.ylabel(\"True\", fontsize=14)\n",
    "plt.show()"
   ]
  },
  {
   "cell_type": "markdown",
   "metadata": {},
   "source": [
    "#### Classification Report\n",
    "Classification report will shed more light on the precision and Recall values for each target class. It will help us evaluate our model better."
   ]
  },
  {
   "cell_type": "code",
   "execution_count": 48,
   "metadata": {
    "ExecuteTime": {
     "end_time": "2018-04-26T03:22:37.300718Z",
     "start_time": "2018-04-26T03:22:37.252590Z"
    }
   },
   "outputs": [
    {
     "name": "stdout",
     "output_type": "stream",
     "text": [
      "classification_report for testing dataset:\n",
      "             precision    recall  f1-score   support\n",
      "\n",
      "        0.0       0.98      0.88      0.93     77781\n",
      "        1.0       0.55      0.92      0.69     13032\n",
      "\n",
      "avg / total       0.92      0.88      0.89     90813\n",
      "\n"
     ]
    }
   ],
   "source": [
    "from sklearn.metrics import classification_report\n",
    "print('classification_report for testing dataset:')\n",
    "print(classification_report(Target_labels_test, y_pred_test))"
   ]
  },
  {
   "cell_type": "markdown",
   "metadata": {},
   "source": [
    "#### Observations\n",
    "The results are pretty good. Let us consolidate the critical observations from the three validation metrics.\n",
    "\n",
    "1. The **F1-score** is a harmonic mean of Precision and Recall so it does not tell the complete story about classification performance by itself. Our goal was to have a good recall for the Class 1 which is a minority class. The F1-score for Class 0 (CERTIFIED) is 0.92 but it is a bit lower for Class 1 (NOT CERTIFIED). The Accuracy of the model is at a decent 88% for test dataset.  \n",
    "\n",
    "2. The **Confusion Matrix** plots the comparison of true class observations with predicted class and is a good place to start looking for clues of classification performance. In our case, it is important to focus on the values from the perspective of the minority class (Class=1). The matrix can be translated for CLass 1 as below -\n",
    "\n",
    "    True positives ~ 12k, False positives ~ 9.6k\n",
    "    \n",
    "    True negatives ~ 68k, False negatives ~ 1k\n",
    "   \n",
    "3. **Classification report** gives us the metrics for each class separately. As can be seen clearly, Precision and Recall for Class 0, which is majority class, is pretty high and within acceptable performance threshold. For the minority class of 1, the recall is good but the precision is pretty low at 55%. \n",
    "\n",
    "**Why is Recall more important than Precision for our problem?**\n",
    "\n",
    "The recall of 0.92 signifies that for the minority class, our model misclassified only 8% Class 1 records as Class 0. It is really good given that the training and testing data are heavily biased towards majority class. Minority class only had 13-15% representation during training. The model wrongly classifies 12% of majority class records into Class 1 (False Positives for Class 1) but it is still acceptable with this model because the over all precision for class 0 is good."
   ]
  },
  {
   "cell_type": "markdown",
   "metadata": {},
   "source": [
    "#### Analysis of alternate model and discussion\n",
    "**This discission will further support the decision of using recall as the metric instead of precision**\n",
    "\n",
    "For the sake of our understanding (and to play devil's advocate), let us see how the Logistic Regression model we used for feature importance classified the test data. We will then plot the confusion matrix and Classification report to see the results."
   ]
  },
  {
   "cell_type": "code",
   "execution_count": 49,
   "metadata": {
    "ExecuteTime": {
     "end_time": "2018-04-26T03:22:37.314754Z",
     "start_time": "2018-04-26T03:22:37.303726Z"
    },
    "collapsed": true
   },
   "outputs": [],
   "source": [
    "y_pred_test_LR=Feature_selector.predict(df_test)"
   ]
  },
  {
   "cell_type": "code",
   "execution_count": 50,
   "metadata": {
    "ExecuteTime": {
     "end_time": "2018-04-26T03:22:37.699779Z",
     "start_time": "2018-04-26T03:22:37.316760Z"
    }
   },
   "outputs": [
    {
     "data": {
      "image/png": "[encoded data removed]",
      "text/plain": [
       "<matplotlib.figure.Figure at 0x1a1bccf9278>"
      ]
     },
     "metadata": {},
     "output_type": "display_data"
    }
   ],
   "source": [
    "g = sns.heatmap(confusion_matrix(Target_labels_test, y_pred_test_LR), annot=True, cmap=\"Reds\")\n",
    "plt.xlabel(\"Predicted\", fontsize=14)\n",
    "plt.ylabel(\"True\", fontsize=14)\n",
    "plt.show()"
   ]
  },
  {
   "cell_type": "code",
   "execution_count": 51,
   "metadata": {
    "ExecuteTime": {
     "end_time": "2018-04-26T03:22:37.759939Z",
     "start_time": "2018-04-26T03:22:37.702790Z"
    }
   },
   "outputs": [
    {
     "name": "stdout",
     "output_type": "stream",
     "text": [
      "             precision    recall  f1-score   support\n",
      "\n",
      "        0.0       0.94      1.00      0.97     77781\n",
      "        1.0       1.00      0.63      0.77     13032\n",
      "\n",
      "avg / total       0.95      0.95      0.94     90813\n",
      "\n"
     ]
    }
   ],
   "source": [
    "print(classification_report(Target_labels_test, y_pred_test_LR))"
   ]
  },
  {
   "cell_type": "markdown",
   "metadata": {},
   "source": [
    "At first look, this model looks much better than our selected model. However on closer inspection, **it is clear that the model is overfitted for majority class due to the bias in training dataset.** The model predicts all class 0 samples correctly and also misclassifies 30% of class 1 samples as class 0. The minority class suffer badly with a recall of just 63%. \n",
    "\n",
    "**This is exactly why the emphasis has been placed on accurately classifying the minority class than in achieving high overall precision.**"
   ]
  },
  {
   "cell_type": "markdown",
   "metadata": {},
   "source": [
    "### Success/Failure Analysis\n",
    "#### Success \n",
    "This has been an interesting project for applying all the machine learning knowledge that I learned over this course. Based on the recall, precision and f1-score values of the classifier on test dataset, it can be said that the selected classifier model is reliable and can successfully classify real life dataset with good precision and accuracy. \n",
    "\n",
    "Feature selection, preprocessing and reducing the target class from 4 to 2 greatly helped in the success of this project. Selecting the correct validation metrics were key in defending the model performance and I think the explanations has been given enough justice in the project documentation.\n",
    "\n",
    "Having tested the project on highly biased real life dataset, I am confident on the classification performance of this model.\n",
    "\n",
    "#### Challenges \n",
    "The main challenges I faced were ML algorithms taking considerable time to train. Especially for MLP and SVC, I was not able to evalute them because of this reason. The data was highly biased and high dimensional. Selecting the right performance metric was crucial and took some deliberation and research.\n",
    "\n",
    "#### Future Enhancements\n",
    "This project can be enhanced further by evaluating the performance of more advanced classifiers like SVM, MLP and Random Forest ensemble. \n",
    "Further work should also be done on improving the precision score for the minority class which is currently at 55%. The model is underfit for Class 0 and training an ensemble classifier may help in improving the precision."
   ]
  }
 ],
 "metadata": {
  "kernelspec": {
   "display_name": "Python 3",
   "language": "python",
   "name": "python3"
  },
  "language_info": {
   "codemirror_mode": {
    "name": "ipython",
    "version": 3
   },
   "file_extension": ".py",
   "mimetype": "text/x-python",
   "name": "python",
   "nbconvert_exporter": "python",
   "pygments_lexer": "ipython3",
   "version": "3.6.1"
  },
  "toc": {
   "base_numbering": 1,
   "nav_menu": {},
   "number_sections": true,
   "sideBar": true,
   "skip_h1_title": false,
   "title_cell": "Table of Contents",
   "title_sidebar": "Contents",
   "toc_cell": false,
   "toc_position": {
    "height": "calc(100% - 180px)",
    "left": "10px",
    "top": "150px",
    "width": "243px"
   },
   "toc_section_display": true,
   "toc_window_display": true
  }
 },
 "nbformat": 4,
 "nbformat_minor": 2
}
